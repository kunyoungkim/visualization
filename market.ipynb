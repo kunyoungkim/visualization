{
  "nbformat": 4,
  "nbformat_minor": 0,
  "metadata": {
    "colab": {
      "provenance": []
    },
    "kernelspec": {
      "name": "python3",
      "display_name": "Python 3"
    },
    "language_info": {
      "name": "python"
    }
  },
  "cells": [
    {
      "cell_type": "code",
      "source": [
        "import pandas as pd\n",
        "import numpy as np\n",
        "import matplotlib.pyplot as plt\n",
        "import seaborn as sns"
      ],
      "metadata": {
        "id": "ZQGMdfRQ108Z"
      },
      "execution_count": 1,
      "outputs": []
    },
    {
      "cell_type": "code",
      "source": [
        "base_path = '/content/drive/MyDrive/Colab Notebooks/크몽/크몽_논문_market'\n",
        "\n",
        "# f1 = pd.read_csv(base_path + '/Figure 1. Top 10 markets worldwide by gross box office 2015-2019 - 시트1.csv')\n",
        "# f2 = pd.read_csv(base_path + '/Figure 2. Top 10 markets worldwide by admissions 2015-2019 - 시트1.csv')\n",
        "# f3 = pd.read_csv(base_path + '/Figure 3. 2019 Average admissions per capita of Top 10 markets - 시트1.csv')\n",
        "# f4 = pd.read_csv(base_path + '/Figure 4. 2019 Multiplexes - 시트1.csv')\n",
        "# f56 = pd.read_csv(base_path + '/Figure+5+and+6+데이터.csv')\n",
        "# f7 = pd.read_csv(base_path + '/Figure7. Number of South Korean films and Imported films 1984-1999 - 시트1.csv')\n",
        "# f8 = pd.read_csv(base_path + '/Figure 8. Number of admissions for South Korean and International films 1990-1999 - 시트1.csv')\n",
        "# f9 = pd.read_csv(base_path + '/Figure 9. Figures in market share, distributed films 2006-2013 - 시트1.csv')\n",
        "# f10 = pd.read_csv(base_path + '/Figure 10. Annual Budget and subsidies for international promotion from 2002-2013  - 시트1.csv')\n",
        "# t1 = pd.read_csv(base_path + '/Table 1. 2010-2019 The South Korean Film Industry - 시트1.csv')\n",
        "fp = pd.read_csv(base_path + '/추가 그래프 - 시트1.csv')\n",
        "# t2 = pd.read_csv(base_path + '/Table 2. Top 10 films in the number of admissions and number of screens 2006-2013 - 시트1.csv')\n"
      ],
      "metadata": {
        "id": "kJAdFUH918bf"
      },
      "execution_count": null,
      "outputs": []
    },
    {
      "cell_type": "markdown",
      "source": [
        "## figure1."
      ],
      "metadata": {
        "id": "etDQdKG5Dn3E"
      }
    },
    {
      "cell_type": "code",
      "source": [
        "# def plot(df, columns):\n",
        "#     order = df[columns[0]].value_counts().index\n",
        "#     df.plot(x='Market', y=columns, kind='bar', figsize=(10, 6), order=order)\n",
        "#     plt.title('Market Share by Year')\n",
        "#     plt.xlabel('Market')\n",
        "#     plt.ylabel('Share (%)')\n",
        "#     plt.legend(loc='upper right')\n",
        "#     plt.xticks(rotation=45)\n",
        "#     plt.show()"
      ],
      "metadata": {
        "id": "7ElEmrmG7xTR"
      },
      "execution_count": null,
      "outputs": []
    },
    {
      "cell_type": "code",
      "source": [
        "def plot(df, columns):\n",
        "    order = df.groupby('Market')[columns[0]].sum().sort_values(ascending=False).index\n",
        "    df = df.sort_values(by=columns[0], ascending=False)\n",
        "\n",
        "    plt.figure(figsize=(12,8))\n",
        "    # df.plot(x='Market', y=columns, kind='bar', figsize=(10, 6))\n",
        "    # plt.title('Market Share by Year')\n",
        "    # plt.xlabel('Market')\n",
        "    # plt.ylabel('Share (%)')\n",
        "    ax = df.plot(x='Market', y=columns, kind='bar', figsize=(10, 6))\n",
        "    # ax.set_xticklabels([])\n",
        "    ax.set_xlabel('')  # x축 라벨 제거\n",
        "    plt.legend(loc='upper right')\n",
        "    plt.xticks(rotation=45)\n",
        "    plt.show()\n"
      ],
      "metadata": {
        "id": "WssSkeTpPgVz"
      },
      "execution_count": null,
      "outputs": []
    },
    {
      "cell_type": "code",
      "source": [
        "f1"
      ],
      "metadata": {
        "id": "V9p3-cb0i5pe"
      },
      "execution_count": null,
      "outputs": []
    },
    {
      "cell_type": "code",
      "source": [
        "f1.loc[:9,:].plot(x='Market', y=['2015','2016','2017','2018','2019'], kind='bar', figsize=(12, 6), color=['red', 'blue', 'green'])\n",
        "plt.xlabel('')\n",
        "plt.xticks(rotation=0)\n",
        "plt.tight_layout()\n",
        "plt.show()"
      ],
      "metadata": {
        "id": "r67ZPiRIkLZZ"
      },
      "execution_count": null,
      "outputs": []
    },
    {
      "cell_type": "code",
      "source": [
        "data = f1.loc[:9, ['Market', '2015', '2016', '2017', '2018', '2019']]\n",
        "data = data.melt(id_vars='Market', var_name='Year', value_name='Value')\n",
        "\n",
        "sns.catplot(data=data, x='Market', y='Value', hue='Year', kind='bar', palette='tab10', height=6, aspect=2)\n",
        "plt.xlabel('')\n",
        "plt.ylabel('')\n",
        "plt.show()"
      ],
      "metadata": {
        "id": "avIyBrmOnJjr"
      },
      "execution_count": null,
      "outputs": []
    },
    {
      "cell_type": "code",
      "source": [
        "data = f1.loc[:9, ['Market', '2015', '2016', '2017', '2018', '2019']]\n",
        "data = data.melt(id_vars='Market', var_name='Year', value_name='Value')\n",
        "\n",
        "sns.catplot(data=data, x='Market', y='Value', hue='Year', kind='bar', palette='PuBu', height=6, aspect=2)\n",
        "plt.xlabel('')\n",
        "plt.ylabel('')\n",
        "plt.show()"
      ],
      "metadata": {
        "id": "xNFjNf7NvATI"
      },
      "execution_count": null,
      "outputs": []
    },
    {
      "cell_type": "code",
      "source": [
        "data = f1.loc[:9, ['Market', '2015', '2016', '2017', '2018', '2019']]\n",
        "data = data.melt(id_vars='Market', var_name='Year', value_name='Value')\n",
        "\n",
        "# sns.set(font_scale=0.5)\n",
        "plt.rcParams['font.size'] = 8  # 전체 글씨 크기 조절\n",
        "# plt.rcParams['axes.labelsize'] = 7  # 라벨 크기 조절\n",
        "plt.rcParams['xtick.labelsize'] = 5.2  # x축 눈금 라벨 크기 조절\n",
        "plt.rcParams['ytick.labelsize'] = 5.2  # y축 눈금 라벨 크기 조절\n",
        "plt.figure(figsize=(6.3,3.15))\n",
        "sns.catplot(data=data, x='Market', y='Value', hue='Year', kind='bar', palette='Blues', height=3.15, aspect=2, legend=False)\n",
        "plt.xlabel('')\n",
        "plt.ylabel('')\n",
        "plt.legend(loc='upper right', fontsize=6, frameon=False)\n",
        "plt.tight_layout()\n",
        "\n",
        "# 그래프를 이미지 파일로 저장 (해상도 설정)\n",
        "plt.grid(True, axis='y', alpha=0.3)\n",
        "plt.savefig('/content/drive/MyDrive/Colab Notebooks/data/크몽_논문_market/image/2차 수정/figure1_size(6.3 x 3.15)_color(Blues).png')  # dpi를 원하는 해상도로 설정\n",
        "\n",
        "plt.show()"
      ],
      "metadata": {
        "id": "WU9oYCs8sVR4"
      },
      "execution_count": null,
      "outputs": []
    },
    {
      "cell_type": "code",
      "source": [
        "data = f1.loc[:9, ['Market', '2015', '2016', '2017', '2018', '2019']]\n",
        "data = data.melt(id_vars='Market', var_name='Year', value_name='Value')\n",
        "\n",
        "# sns.set(font_scale=0.5)\n",
        "plt.rcParams['font.size'] = 8  # 전체 글씨 크기 조절\n",
        "# plt.rcParams['axes.labelsize'] = 7  # 라벨 크기 조절\n",
        "plt.rcParams['xtick.labelsize'] = 5.2  # x축 눈금 라벨 크기 조절\n",
        "plt.rcParams['ytick.labelsize'] = 5.2  # y축 눈금 라벨 크기 조절\n",
        "plt.figure(figsize=(6.3,3.15))\n",
        "sns.catplot(data=data, x='Market', y='Value', hue='Year', kind='bar', palette='PuBu', height=3.15, aspect=2, legend=False)\n",
        "plt.xlabel('')\n",
        "plt.ylabel('')\n",
        "plt.legend(loc='upper right', fontsize=6, frameon=False)\n",
        "plt.tight_layout()\n",
        "\n",
        "# 그래프를 이미지 파일로 저장 (해상도 설정)\n",
        "plt.grid(True, axis='y', alpha=0.3)\n",
        "plt.savefig('/content/drive/MyDrive/Colab Notebooks/data/크몽_논문_market/image/2차 수정/figure1_size(6.3 x 3.15)_color(PuBu).png')  # dpi를 원하는 해상도로 설정\n",
        "\n",
        "plt.show()"
      ],
      "metadata": {
        "id": "Zb2IMOF0MAVv"
      },
      "execution_count": null,
      "outputs": []
    },
    {
      "cell_type": "code",
      "source": [
        "data = f2.loc[:9, ['Market', '2015', '2016', '2017', '2018', '2019']]\n",
        "data = data.melt(id_vars='Market', var_name='Year', value_name='Value')\n",
        "\n",
        "# sns.set(font_scale=0.5)\n",
        "plt.rcParams['font.size'] = 8  # 전체 글씨 크기 조절\n",
        "# plt.rcParams['axes.labelsize'] = 7  # 라벨 크기 조절\n",
        "plt.rcParams['xtick.labelsize'] = 5.2  # x축 눈금 라벨 크기 조절\n",
        "plt.rcParams['ytick.labelsize'] = 5.2  # y축 눈금 라벨 크기 조절\n",
        "plt.figure(figsize=(6.3,3.15))\n",
        "sns.catplot(data=data, x='Market', y='Value', hue='Year', kind='bar', palette='Blues', height=3.15, aspect=2, legend=False)\n",
        "plt.xlabel('')\n",
        "plt.ylabel('')\n",
        "plt.legend(loc='upper right', fontsize=6, frameon=False)\n",
        "plt.tight_layout()\n",
        "\n",
        "# 그래프를 이미지 파일로 저장 (해상도 설정)\n",
        "plt.grid(True, axis='y', alpha=0.3)\n",
        "plt.savefig('/content/drive/MyDrive/Colab Notebooks/data/크몽_논문_market/image/2차 수정/figure2_size(6.3 x 3.15)_color(Blues).png')  # dpi를 원하는 해상도로 설정\n",
        "\n",
        "plt.show()"
      ],
      "metadata": {
        "id": "gsgmZWMpMiqA"
      },
      "execution_count": null,
      "outputs": []
    },
    {
      "cell_type": "code",
      "source": [
        "data = f2.loc[:9, ['Market', '2015', '2016', '2017', '2018', '2019']]\n",
        "data = data.melt(id_vars='Market', var_name='Year', value_name='Value')\n",
        "\n",
        "# sns.set(font_scale=0.5)\n",
        "plt.rcParams['font.size'] = 8  # 전체 글씨 크기 조절\n",
        "# plt.rcParams['axes.labelsize'] = 7  # 라벨 크기 조절\n",
        "plt.rcParams['xtick.labelsize'] = 5.2  # x축 눈금 라벨 크기 조절\n",
        "plt.rcParams['ytick.labelsize'] = 5.2  # y축 눈금 라벨 크기 조절\n",
        "plt.figure(figsize=(6.3,3.15))\n",
        "sns.catplot(data=data, x='Market', y='Value', hue='Year', kind='bar', palette='PuBu', height=3.15, aspect=2, legend=False)\n",
        "plt.xlabel('')\n",
        "plt.ylabel('')\n",
        "plt.legend(loc='upper right', fontsize=6, frameon=False)\n",
        "plt.tight_layout()\n",
        "\n",
        "# 그래프를 이미지 파일로 저장 (해상도 설정)\n",
        "plt.grid(True, axis='y', alpha=0.3)\n",
        "plt.savefig('/content/drive/MyDrive/Colab Notebooks/data/크몽_논문_market/image/2차 수정/figure2_size(6.3 x 3.15)_color(PuBu).png')  # dpi를 원하는 해상도로 설정\n",
        "\n",
        "plt.show()"
      ],
      "metadata": {
        "id": "7iEw2QiI7wzT"
      },
      "execution_count": null,
      "outputs": []
    },
    {
      "cell_type": "code",
      "source": [
        "import pandas as pd\n",
        "import seaborn as sns\n",
        "import matplotlib.pyplot as plt\n",
        "\n",
        "data = {\n",
        "    'Year': [2002, 2008, 2010, 2013],\n",
        "    'Total Budget': [15557974, 65783000, 44344000, 99049000],\n",
        "    'International division': [632475, 3950000, 3962000, 6442000],\n",
        "    'TB': ['15,557,974', '65,783,000', '44,344,000', '99,049,000'],\n",
        "    'ID': ['632,475', '3,950,000', '3,962,000', '6,442,000']\n",
        "}\n",
        "\n",
        "df = pd.DataFrame(data)\n",
        "\n",
        "# 색상 팔레트 정의 (값이 높은 것을 강조하되, 낮은 값을 연하게 표현)\n",
        "custom_palette = sns.color_palette(\"PuBu\", len(df['Year']))[::-1]\n",
        "# 첫 번째 색상을 연하게 만들기\n",
        "custom_palette[1] = sns.set_hls_values(custom_palette[1], l=0.8)\n",
        "\n",
        "# Seaborn 스타일 설정과 색상 팔레트 적용\n",
        "sns.set(font_scale=0.5)\n",
        "sns.set_style(\"whitegrid\")\n",
        "sns.set_palette(custom_palette)\n",
        "\n",
        "plt.rcParams['font.size'] = 8\n",
        "plt.rcParams['axes.labelsize'] = 7\n",
        "plt.rcParams['xtick.labelsize'] = 7\n",
        "plt.rcParams['ytick.labelsize'] = 7\n",
        "\n",
        "# 데이터를 'melt'하여 'Total Budget'와 'International division'을 하나의 열로 만듭니다.\n",
        "df_melted = pd.melt(df, id_vars=['Year'], value_vars=['Total Budget', 'International division'], var_name='Budget Type', value_name='Amount')\n",
        "\n",
        "plt.figure(figsize=(6.3, 3.15), facecolor='white')  # 배경색을 흰색으로 설정\n",
        "\n",
        "# catplot을 사용하여 막대 그래프를 그립니다.\n",
        "ax = sns.catplot(data=df_melted, x='Year', y='Amount', hue='Budget Type', kind='bar', height=3.15, aspect=2, legend=False)\n",
        "\n",
        "# Total Budget의 막대 위에는 'TB'의 값만 표시\n",
        "for p, tb in zip(ax.ax.patches[:4], df['TB']):\n",
        "    ax.ax.annotate(f'{tb}', (p.get_x() + p.get_width() / 2., p.get_height()), ha='center', va='center', fontsize=7, color='black', xytext=(0, 5), textcoords='offset points')\n",
        "\n",
        "# International division의 막대 위에는 'ID' 값만 표시\n",
        "for p, id_val in zip(ax.ax.patches[4:], df['ID']):\n",
        "    ax.ax.annotate(f'{id_val}', (p.get_x() + p.get_width() / 2., p.get_height()), ha='center', va='center', fontsize=7, color='black', xytext=(0, 5), textcoords='offset points')\n",
        "\n",
        "plt.xlabel('')\n",
        "plt.ylabel('')\n",
        "plt.legend(loc='upper left', fontsize=7, frameon=False)\n",
        "plt.tight_layout()\n",
        "\n",
        "plt.grid(True, axis='y', alpha=0.3)\n",
        "\n",
        "# 그래프 표시\n",
        "plt.show()\n"
      ],
      "metadata": {
        "id": "562qMLpF4JJf"
      },
      "execution_count": null,
      "outputs": []
    },
    {
      "cell_type": "code",
      "source": [
        "import pandas as pd\n",
        "import seaborn as sns\n",
        "import matplotlib.pyplot as plt\n",
        "\n",
        "data = {\n",
        "    'Year': [2002, 2008, 2010, 2013],\n",
        "    'Total Budget': [15557974, 65783000, 44344000, 99049000],\n",
        "    'International division': [632475, 3950000, 3962000, 6442000],\n",
        "    'TB': ['15,557,974', '65,783,000', '44,344,000', '99,049,000'],\n",
        "    'ID': ['632,475', '3,950,000', '3,962,000', '6,442,000']\n",
        "}\n",
        "\n",
        "df = pd.DataFrame(data)\n",
        "\n",
        "# 색상 팔레트 정의 (값이 높은 것을 강조하되, 낮은 값을 연하게 표현)\n",
        "custom_palette = sns.color_palette(\"PuBu\", len(df['Year']))[::-1]\n",
        "# 첫 번째 색상을 연하게 만들기\n",
        "custom_palette[1] = sns.set_hls_values(custom_palette[1], l=0.8)\n",
        "\n",
        "# Seaborn 스타일 설정과 색상 팔레트 적용\n",
        "sns.set(font_scale=0.5)\n",
        "sns.set_style(\"whitegrid\")\n",
        "sns.set_palette(custom_palette)\n",
        "\n",
        "plt.rcParams['font.size'] = 8\n",
        "plt.rcParams['axes.labelsize'] = 7\n",
        "plt.rcParams['xtick.labelsize'] = 7\n",
        "plt.rcParams['ytick.labelsize'] = 7\n",
        "\n",
        "# 데이터를 'melt'하여 'Total Budget'와 'International division'을 하나의 열로 만듭니다.\n",
        "df_melted = pd.melt(df, id_vars=['Year'], value_vars=['Total Budget', 'International division'], var_name='Budget Type', value_name='Amount')\n",
        "\n",
        "# 그래프를 그릴 Figure 객체 생성\n",
        "fig, ax = plt.subplots(figsize=(7.4, 3.15), facecolor='white')  # 배경색을 흰색으로 설정\n",
        "\n",
        "# barplot을 사용하여 막대 그래프를 그립니다. linewidth를 설정하여 테두리 두께를 조절합니다.\n",
        "ax = sns.barplot(data=df_melted, x='Year', y='Amount', hue='Budget Type', linewidth=0.5)\n",
        "\n",
        "# Total Budget의 막대 위에는 'TB'의 값만 표시\n",
        "for p, tb in zip(ax.patches[:4], df['TB']):\n",
        "    ax.annotate(f'{tb}', (p.get_x() + p.get_width() / 2., p.get_height()), ha='center', va='center', fontsize=7, color='black', xytext=(0, 5), textcoords='offset points')\n",
        "\n",
        "# International division의 막대 위에는 'ID' 값만 표시\n",
        "for p, id_val in zip(ax.patches[4:], df['ID']):\n",
        "    ax.annotate(f'{id_val}', (p.get_x() + p.get_width() / 2., p.get_height()), ha='center', va='center', fontsize=7, color='black', xytext=(0, 5), textcoords='offset points')\n",
        "\n",
        "plt.xlabel('')\n",
        "plt.ylabel('')\n",
        "plt.legend(loc='upper left', fontsize=7, frameon=False)\n",
        "\n",
        "# 그래프 테두리를 추가하고 색상을 검은색으로 설정\n",
        "for _, spine in ax.spines.items():\n",
        "    spine.set_color('black')\n",
        "    # 상하좌우 테두리 두께 설정\n",
        "    spine.set_linewidth(0.5)\n",
        "\n",
        "# y축의 범위를 1.1까지로 설정\n",
        "plt.ylim(0, 105000000)\n",
        "\n",
        "plt.grid(True, axis='y', alpha=0.3)\n",
        "\n",
        "# 그래프 표시\n",
        "plt.show()\n"
      ],
      "metadata": {
        "id": "fhTFyGKaKQE9"
      },
      "execution_count": null,
      "outputs": []
    },
    {
      "cell_type": "code",
      "source": [
        "import pandas as pd\n",
        "import seaborn as sns\n",
        "import matplotlib.pyplot as plt\n",
        "import matplotlib.ticker as mtick\n",
        "\n",
        "data = {\n",
        "    'Year': [2002, 2008, 2010, 2013],\n",
        "    'Total Budget': [15557974, 65783000, 44344000, 99049000],\n",
        "    'International division': [632475, 3950000, 3962000, 6442000],\n",
        "    'TB': ['15,557,974', '65,783,000', '44,344,000', '99,049,000'],\n",
        "    'ID': ['632,475', '3,950,000', '3,962,000', '6,442,000']\n",
        "}\n",
        "\n",
        "df = pd.DataFrame(data)\n",
        "\n",
        "# 색상 팔레트 정의 (값이 높은 것을 강조하되, 낮은 값을 연하게 표현)\n",
        "custom_palette = sns.color_palette(\"PuBu\", len(df['Year']))[::-1]\n",
        "# 첫 번째 색상을 연하게 만들기\n",
        "custom_palette[1] = sns.set_hls_values(custom_palette[1], l=0.8)\n",
        "\n",
        "# Seaborn 스타일 설정과 색상 팔레트 적용\n",
        "sns.set(font_scale=0.5)\n",
        "sns.set_style(\"whitegrid\")\n",
        "sns.set_palette(custom_palette)\n",
        "\n",
        "plt.rcParams['font.size'] = 8\n",
        "plt.rcParams['axes.labelsize'] = 7\n",
        "plt.rcParams['xtick.labelsize'] = 7\n",
        "plt.rcParams['ytick.labelsize'] = 7\n",
        "\n",
        "# 데이터를 'melt'하여 'Total Budget'와 'International division'을 하나의 열로 만듭니다.\n",
        "df_melted = pd.melt(df, id_vars=['Year'], value_vars=['Total Budget', 'International division'], var_name='Budget Type', value_name='Amount')\n",
        "\n",
        "plt.figure(figsize=(6.3, 3.15), facecolor='white')  # 배경색을 흰색으로 설정\n",
        "\n",
        "# catplot을 사용하여 막대 그래프를 그립니다.\n",
        "ax = sns.catplot(data=df_melted, x='Year', y='Amount', hue='Budget Type', kind='bar', height=3.15, aspect=2, legend=False)\n",
        "\n",
        "# Total Budget의 막대 위에는 'TB'의 값만 표시\n",
        "for p, tb in zip(ax.ax.patches[:4], df['TB']):\n",
        "    ax.ax.annotate(f'{tb}', (p.get_x() + p.get_width() / 2., p.get_height()), ha='center', va='center', fontsize=7, color='black', xytext=(0, 5), textcoords='offset points')\n",
        "\n",
        "# International division의 막대 위에는 'ID' 값만 표시\n",
        "for p, id_val in zip(ax.ax.patches[4:], df['ID']):\n",
        "    ax.ax.annotate(f'{id_val}', (p.get_x() + p.get_width() / 2., p.get_height()), ha='center', va='center', fontsize=7, color='black', xytext=(0, 5), textcoords='offset points')\n",
        "\n",
        "plt.xlabel('')\n",
        "plt.ylabel('')\n",
        "plt.legend(loc='upper left', fontsize=7, frameon=False)\n",
        "plt.tight_layout()\n",
        "\n",
        "plt.grid(True, axis='y', alpha=0.3)\n",
        "\n",
        "# 세로축 레이블을 실제 숫자로 표시\n",
        "# ax.set_axis_labels(x_var=\"Year\", y_var=\"Amount\")\n",
        "\n",
        "# 세로축 레이블 형식을 변경하여 지수 표기법 비활성화\n",
        "ax.ax.yaxis.set_major_formatter(mtick.FuncFormatter(lambda x, _: '{:,.0f}'.format(x)))\n",
        "\n",
        "# 그래프 표시\n",
        "plt.show()\n"
      ],
      "metadata": {
        "id": "LkxsF7AZ1Mt_"
      },
      "execution_count": null,
      "outputs": []
    },
    {
      "cell_type": "code",
      "source": [
        "17/2.54/2"
      ],
      "metadata": {
        "id": "CCzrdj7-zviT"
      },
      "execution_count": null,
      "outputs": []
    },
    {
      "cell_type": "code",
      "source": [
        "f2.loc[:9,:].plot(x='Market', y=['2015','2016','2017','2018','2019'], kind='bar', figsize=(12,6))\n",
        "plt.xlabel('')\n",
        "plt.xticks(rotation=0)\n",
        "plt.tight_layout()\n",
        "plt.show()"
      ],
      "metadata": {
        "id": "lPo4VoR8thZ-"
      },
      "execution_count": null,
      "outputs": []
    },
    {
      "cell_type": "code",
      "source": [
        "plot(f1.loc[0:9,:], ['2015','2016','2017','2018','2019'])"
      ],
      "metadata": {
        "id": "4Wl1h82yhjiL"
      },
      "execution_count": null,
      "outputs": []
    },
    {
      "cell_type": "code",
      "source": [
        "f1"
      ],
      "metadata": {
        "id": "diOiDeQg-LIb"
      },
      "execution_count": null,
      "outputs": []
    },
    {
      "cell_type": "code",
      "source": [
        "f1.iloc[9,2:7].to_list()"
      ],
      "metadata": {
        "id": "yWNEoW0v-NcL"
      },
      "execution_count": null,
      "outputs": []
    },
    {
      "cell_type": "code",
      "source": [
        "# 연도별 시장 규모 데이터\n",
        "years = [2015, 2016, 2017, 2018, 2019]\n",
        "us_canada = [11.14, 11.37, 11.12, 11.88, 11.38]\n",
        "china = [6.81, 6.6, 8.27, 9.24, 9.3]\n",
        "japan = [1.8, 2.17, 2.04, 2.02, 2.4]\n",
        "south_korea = [1.37, 1.5, 1.55, 1.65, 1.64]\n",
        "france = [1.48, 1.54, 1.56, 1.58, 1.62]\n",
        "uk = [1.9, 1.66, 1.65, 1.71, 1.6]\n",
        "india = [1.6, 1.49, 1.48, 1.5, 1.6]\n",
        "germany = [1.29, 1.13, 1.19, 1.06, 1.15]\n",
        "mexico = [0.84, 0.79, 0.85, 0.85, 0.97]\n",
        "russian = [1.15, 0.73, 0.91, 0.81, 0.86]\n",
        "\n",
        "# 그래프 그리기\n",
        "# plt.rcParams['font.size'] = 8  # 전체 글씨 크기 조절\n",
        "plt.rcParams['xtick.labelsize'] = 6  # x축 눈금 라벨 크기 조절\n",
        "plt.rcParams['ytick.labelsize'] = 6  # y축 눈금 라벨 크기 조절\n",
        "plt.figure(figsize=(6.3,3.15))\n",
        "plt.plot(years, us_canada, label='US&Canada')\n",
        "plt.plot(years, china, label='China')\n",
        "plt.plot(years, japan, label='Japen')\n",
        "plt.plot(years, south_korea, label='South Korea')\n",
        "plt.plot(years, france, label='France')\n",
        "plt.plot(years, uk, label='United Kingdom')\n",
        "plt.plot(years, india, label='India')\n",
        "plt.plot(years, germany, label='Germany')\n",
        "plt.plot(years, mexico, label='Mexico')\n",
        "plt.plot(years, russian, label='Russia')\n",
        "# plt.xlabel('Year')\n",
        "# plt.ylabel('Market Size')\n",
        "# plt.title('Market Size by Year')\n",
        "plt.xticks(years)\n",
        "plt.legend(loc='center right', fontsize=6.5)\n",
        "plt.grid(True, axis='y', alpha=0.3)\n",
        "plt.savefig('/content/drive/MyDrive/Colab Notebooks/data/크몽_논문_market/image/2차 수정/figure1_size(6.3 x 3.15)_lineplot.png')  # dpi를 원하는 해상도로 설정\n",
        "plt.show()"
      ],
      "metadata": {
        "id": "W_1Rhrh0udL3"
      },
      "execution_count": null,
      "outputs": []
    },
    {
      "cell_type": "code",
      "source": [
        "3.15 * 2"
      ],
      "metadata": {
        "id": "7Dsgn7mc_ljH"
      },
      "execution_count": null,
      "outputs": []
    },
    {
      "cell_type": "markdown",
      "source": [
        "## figure2."
      ],
      "metadata": {
        "id": "vF8n9PyrDjre"
      }
    },
    {
      "cell_type": "code",
      "source": [
        "f2"
      ],
      "metadata": {
        "id": "ADC1zcH5hhdO"
      },
      "execution_count": null,
      "outputs": []
    },
    {
      "cell_type": "code",
      "source": [
        "# 연도별 시장 규모 데이터 f2\n",
        "years = [2015, 2016, 2017, 2018, 2019]\n",
        "china = [2073, 1860, 1429, 1463, 1561]\n",
        "india = [1321, 1315, 1240, 1304, 1242]\n",
        "us_canada = [286, 321, 338, 320, 342]\n",
        "mexico = [217, 217, 220, 216, 227]\n",
        "south_korea = [174, 193, 212, 200, 219]\n",
        "russian = [174, 193, 212, 200, 219]\n",
        "france = [205, 213, 209, 201, 213]\n",
        "japan = [167, 180, 174, 169, 195]\n",
        "brzil = [173, 184, 181, 163, 176]\n",
        "uk = [172, 168, 171, 177, 176]\n",
        "\n",
        "# 그래프 그리기\n",
        "plt.rcParams['xtick.labelsize'] = 6  # x축 눈금 라벨 크기 조절\n",
        "plt.rcParams['ytick.labelsize'] = 6  # y축 눈금 라벨 크기 조절\n",
        "plt.figure(figsize=(6.3,3.15))\n",
        "plt.plot(years, china, label='China')\n",
        "plt.plot(years, india, label='India')\n",
        "plt.plot(years, us_canada, label='US&Canada')\n",
        "plt.plot(years, mexico, label='Mexico')\n",
        "plt.plot(years, south_korea, label='South Korea')\n",
        "plt.plot(years, russian, label='Russia')\n",
        "plt.plot(years, france, label='France')\n",
        "plt.plot(years, japan, label='Japen')\n",
        "plt.plot(years, brzil, label='Brazil')\n",
        "plt.plot(years, uk, label='United Kingdom')\n",
        "\n",
        "# plt.xlabel('Year')\n",
        "# plt.ylabel('Market Size')\n",
        "# plt.title('Market Size by Year')\n",
        "plt.xticks(years)\n",
        "plt.legend(loc='lower right', fontsize=6.5)\n",
        "plt.grid(True, axis='y', alpha=0.3)\n",
        "plt.savefig('/content/drive/MyDrive/Colab Notebooks/data/크몽_논문_market/image/2차 수정/figure2_size(6.3 x 3.15)_lineplot.png')  # dpi를 원하는 해상도로 설정\n",
        "plt.show()"
      ],
      "metadata": {
        "id": "qSGhRmWLBaKi"
      },
      "execution_count": null,
      "outputs": []
    },
    {
      "cell_type": "markdown",
      "source": [
        "## figure 3."
      ],
      "metadata": {
        "id": "V5dQH-8TDeMQ"
      }
    },
    {
      "cell_type": "code",
      "source": [
        "f3"
      ],
      "metadata": {
        "id": "qHISsc4VC5z2"
      },
      "execution_count": null,
      "outputs": []
    },
    {
      "cell_type": "code",
      "source": [
        "f3.loc[3,'2019'] = 4.2"
      ],
      "metadata": {
        "id": "Tom6wdMfDUmJ"
      },
      "execution_count": null,
      "outputs": []
    },
    {
      "cell_type": "code",
      "source": [
        "f3['2019'] = pd.to_numeric(f3['2019'])"
      ],
      "metadata": {
        "id": "ZY1aJG14FHJi"
      },
      "execution_count": null,
      "outputs": []
    },
    {
      "cell_type": "code",
      "source": [
        "f3.info()"
      ],
      "metadata": {
        "id": "kD-_LrKwFElZ"
      },
      "execution_count": null,
      "outputs": []
    },
    {
      "cell_type": "code",
      "source": [
        "sns.barplot(data=f3, x='Market', y='2019')\n",
        "plt.xticks(rotation=45)"
      ],
      "metadata": {
        "id": "2rPzAzQzD4XZ"
      },
      "execution_count": null,
      "outputs": []
    },
    {
      "cell_type": "code",
      "source": [
        "# '2019' 열을 기준으로 내림차순 정렬\n",
        "f3_sorted = f3.sort_values(by='2019', ascending=False)\n",
        "\n",
        "# 막대 그래프 그리기\n",
        "plt.rcParams['xtick.labelsize'] = 6  # x축 눈금 라벨 크기 조절\n",
        "plt.rcParams['ytick.labelsize'] = 6  # y축 눈금 라벨 크기 조절\n",
        "plt.figure(figsize=(6.3,3.15))\n",
        "plt.bar(f3_sorted['Market'], f3_sorted['2019'])\n",
        "# plt.xlabel('Market')\n",
        "# plt.ylabel('Value')\n",
        "# plt.title('Market Size in 2019')\n",
        "\n",
        "# x축 라벨 회전\n",
        "plt.xticks(rotation=60)\n",
        "\n",
        "# x축 눈금 간격 조정\n",
        "# plt.tight_layout()\n",
        "\n",
        "plt.show()"
      ],
      "metadata": {
        "id": "ErYUYdwyEXJa"
      },
      "execution_count": null,
      "outputs": []
    },
    {
      "cell_type": "code",
      "source": [
        "f3"
      ],
      "metadata": {
        "id": "QJNJz8qiBCil"
      },
      "execution_count": null,
      "outputs": []
    },
    {
      "cell_type": "code",
      "source": [
        "f3.sort_values('2019', ascending=False)"
      ],
      "metadata": {
        "id": "3bw-mnwvF16_"
      },
      "execution_count": null,
      "outputs": []
    },
    {
      "cell_type": "code",
      "source": [
        "plt.rcParams['xtick.labelsize'] = 5.5  # x축 눈금 라벨 크기 조절\n",
        "plt.rcParams['ytick.labelsize'] = 5.5  # y축 눈금 라벨 크기 조절\n",
        "plt.figure(figsize=(6.3, 3.15))\n",
        "sns.barplot(data=f3, x='Market', y='2019', order=f3.sort_values('2019', ascending=False)['Market'], color='#3182bd', label='2019')\n",
        "plt.tight_layout()\n",
        "plt.xlabel('')\n",
        "plt.ylabel('')\n",
        "plt.legend(fontsize=7, frameon=False)\n",
        "plt.grid(True, axis='y', alpha=0.3)\n",
        "plt.savefig('/content/drive/MyDrive/Colab Notebooks/data/크몽_논문_market/image/2차 수정/figure3_size(6.68 x 3.34).png')  # dpi를 원하는 해상도로 설정\n",
        "plt.show()"
      ],
      "metadata": {
        "id": "opKcsnCZBHXS"
      },
      "execution_count": null,
      "outputs": []
    },
    {
      "cell_type": "code",
      "source": [
        "f3 = f3.sort_values('2019', ascending=False)"
      ],
      "metadata": {
        "id": "OKKQQlVcF8We"
      },
      "execution_count": null,
      "outputs": []
    },
    {
      "cell_type": "code",
      "source": [
        "plt.rcParams['xtick.labelsize'] = 6  # x축 눈금 라벨 크기 조절\n",
        "plt.rcParams['ytick.labelsize'] = 6  # y축 눈금 라벨 크기 조절\n",
        "plt.figure(figsize=(6.68,3.34))\n",
        "\n",
        "x = range(len(f3['Market']))  # x축 위치를 숫자로 변환\n",
        "bars = plt.bar(x=f3['Market'], height=f3['2019'], color='steelblue', label='2019')\n",
        "\n",
        "for bar in bars:\n",
        "    bar.set_width(0.6)  # 막대의 너비 조정\n",
        "\n",
        "plt.xticks(x, f3['Market'], rotation=0)\n",
        "plt.xlabel('')\n",
        "# plt.tight_layout()\n",
        "plt.legend(fontsize=8, frameon=False)\n",
        "plt.show()"
      ],
      "metadata": {
        "id": "yjqpisUXFTxy"
      },
      "execution_count": null,
      "outputs": []
    },
    {
      "cell_type": "code",
      "source": [
        "f3.sort_values('2019', ascending=False)['Market']"
      ],
      "metadata": {
        "id": "IJ-NRsOrBcMu"
      },
      "execution_count": null,
      "outputs": []
    },
    {
      "cell_type": "markdown",
      "source": [
        "# figure4"
      ],
      "metadata": {
        "id": "mtb0fsoyGpRH"
      }
    },
    {
      "cell_type": "code",
      "source": [
        "f4"
      ],
      "metadata": {
        "id": "YdB7N0GwHNcx"
      },
      "execution_count": null,
      "outputs": []
    },
    {
      "cell_type": "code",
      "source": [
        "# 데이터 프레임 생성\n",
        "data = {\n",
        "    'Theatre': ['CGV', 'Lotte', 'Megabox', 'Cine Q', 'Others', 'Non-Multiplex'],\n",
        "    'No. of Seats': [189090, 143492, 101818, 3789, 4091, 20882],\n",
        "    'No. of Screens': [1221, 915, 699, 31, 19, 194],\n",
        "    'No. of Theatre': [168, 130, 102, 5, 2, 106]\n",
        "}\n",
        "df = pd.DataFrame(data)\n",
        "\n",
        "# 그래프 그리기\n",
        "plt.rcParams['xtick.labelsize'] = 6  # x축 눈금 라벨 크기 조절\n",
        "plt.rcParams['ytick.labelsize'] = 6  # y축 눈금 라벨 크기 조절\n",
        "ax = df.plot(x='Theatre', y='No. of Seats', kind='bar', figsize=(6.3,3.15))\n",
        "ax.set_xlabel('')\n",
        "# plt.title('Theatre Statistics')\n",
        "# plt.xlabel('Theatre')\n",
        "# plt.ylabel('Count')\n",
        "plt.legend(fontsize=7, frameon=False)\n",
        "plt.xticks(rotation=0)\n",
        "plt.ylim(0,180000)\n",
        "plt.grid(True, axis='y', alpha=0.3)\n",
        "plt.savefig('/content/drive/MyDrive/Colab Notebooks/data/크몽_논문_market/image/2차 수정/figure4(Seats)_size(6.3 x 3.15).png')  # dpi를 원하는 해상도로 설정\n",
        "plt.show()"
      ],
      "metadata": {
        "id": "rPRiwl5KHN8Y"
      },
      "execution_count": null,
      "outputs": []
    },
    {
      "cell_type": "code",
      "source": [
        "# 데이터 프레임 생성\n",
        "data = {\n",
        "    'Theatre': ['CGV', 'Lotte', 'Megabox', 'Cine Q', 'Others', 'Non-Multiplex'],\n",
        "    'No. of Seats': [189090, 143492, 101818, 3789, 4091, 20882],\n",
        "    'No. of Screens': [1221, 915, 699, 31, 19, 194],\n",
        "    'No. of Theatre': [168, 130, 102, 5, 2, 106]\n",
        "}\n",
        "df = pd.DataFrame(data)\n",
        "\n",
        "# 그래프 그리기\n",
        "plt.rcParams['xtick.labelsize'] = 6  # x축 눈금 라벨 크기 조절\n",
        "plt.rcParams['ytick.labelsize'] = 6  # y축 눈금 라벨 크기 조절\n",
        "ax = df.plot(x='Theatre', y='No. of Screens', kind='bar', figsize=(6.3,3.15))\n",
        "ax.set_xlabel('')\n",
        "# plt.title('Theatre Statistics')\n",
        "# plt.xlabel('Theatre')\n",
        "# plt.ylabel('Count')\n",
        "plt.legend(fontsize=7, frameon=False)\n",
        "plt.xticks(rotation=0)\n",
        "plt.grid(True, axis='y', alpha=0.3)\n",
        "plt.savefig('/content/drive/MyDrive/Colab Notebooks/data/크몽_논문_market/image/2차 수정/figure4(Screens)_size(6.3 x 3.15).png')  # dpi를 원하는 해상도로 설정\n",
        "plt.show()"
      ],
      "metadata": {
        "id": "QOR8mZS5JxUc"
      },
      "execution_count": null,
      "outputs": []
    },
    {
      "cell_type": "code",
      "source": [
        "# 데이터 프레임 생성\n",
        "data = {\n",
        "    'Theatre': ['CGV', 'Lotte', 'Megabox', 'Cine Q', 'Others', 'Non-Multiplex'],\n",
        "    'No. of Seats': [189090, 143492, 101818, 3789, 4091, 20882],\n",
        "    'No. of Screens': [1221, 915, 699, 31, 19, 194],\n",
        "    'No. of Theatre': [168, 130, 102, 5, 2, 106]\n",
        "}\n",
        "df = pd.DataFrame(data)\n",
        "\n",
        "# 그래프 그리기\n",
        "plt.rcParams['xtick.labelsize'] = 6  # x축 눈금 라벨 크기 조절\n",
        "plt.rcParams['ytick.labelsize'] = 6  # y축 눈금 라벨 크기 조절\n",
        "ax = df.plot(x='Theatre', y='No. of Theatre', kind='bar', figsize=(6.3,3.15))\n",
        "ax.set_xlabel('')\n",
        "# plt.title('Theatre Statistics')\n",
        "# plt.xlabel('Theatre')\n",
        "# plt.ylabel('Count')\n",
        "plt.legend(fontsize=7, frameon=False)\n",
        "plt.xticks(rotation=0)\n",
        "plt.grid(True, axis='y', alpha=0.3)\n",
        "plt.savefig('/content/drive/MyDrive/Colab Notebooks/data/크몽_논문_market/image/2차 수정/figure4(Theatre)_size(6.3 x 3.15).png')  # dpi를 원하는 해상도로 설정\n",
        "plt.show()"
      ],
      "metadata": {
        "id": "yYaae71dNhp8"
      },
      "execution_count": null,
      "outputs": []
    },
    {
      "cell_type": "markdown",
      "source": [
        "# f56"
      ],
      "metadata": {
        "id": "yWA-eUwaHwUR"
      }
    },
    {
      "cell_type": "code",
      "source": [
        "f56.T"
      ],
      "metadata": {
        "id": "0iXpwf5I1OH_"
      },
      "execution_count": null,
      "outputs": []
    },
    {
      "cell_type": "code",
      "source": [
        "# 주어진 데이터\n",
        "years = [\n",
        "    1992, 1993, 1994, 1995, 1996, 1997, 1998, 1999, 2000, 2001,\n",
        "    2002, 2003, 2004, 2005, 2006, 2007, 2008, 2009, 2010, 2011,\n",
        "    2012, 2013, 2014, 2015, 2016, 2017, 2018, 2019\n",
        "]\n",
        "amounts = [\n",
        "    20, 17, 62, 21, 170, 49, 307, 600, 705, 1124, 1500, 3098,\n",
        "    5829, 7599, 2451, 2440, 2104, 1412, 4222, 3487, 3782, 5946,\n",
        "    6308, 5550, 10109, 11879, 8036, 7378\n",
        "]\n",
        "royalties = [\n",
        "    20, 17, 62, 21, 170, 49, 307, 600, 705, 1124, 1500, 3098,\n",
        "    5829, 7599, 2451, 2440, 2104, 1412, 1358, 1583, 2017, 3707,\n",
        "    2638, 2938, 4392, 4072, 4160, 3788\n",
        "]\n",
        "services = [\n",
        "    None, None, None, None, None, None, None, None, None, None, None, None,\n",
        "    None, None, None, None, None, None, 2864, 1904, 1765, 2239, 3670, 2612,\n",
        "    5727, 7807, 3876, 3590\n",
        "]\n",
        "\n",
        "# 그래프 1: Years vs. Amount\n",
        "plt.figure(figsize=(6.3,3.15))\n",
        "plt.plot(years, amounts, marker='o', markersize=3, label='Amount (US$10,000)')\n",
        "plt.xticks(years, rotation=45)\n",
        "plt.legend(frameon=False)\n",
        "plt.grid(True, axis='y', alpha=0.3)\n",
        "plt.savefig('/content/drive/MyDrive/Colab Notebooks/data/크몽_논문_market/image/2차 수정/figure5_size(6.3 x 3.15).png')\n",
        "plt.show()\n",
        "\n",
        "# 그래프 2: Years vs. Royalty, Service, Total\n",
        "plt.figure(figsize=(6.3,3.15))\n",
        "plt.plot(years[18:], royalties[18:], marker='o', markersize=3, label='Royalty')\n",
        "plt.plot(years[18:], services[18:], marker='o', markersize=3, label='Service')\n",
        "plt.plot(years[18:], amounts[18:], marker='o', markersize=3, label='Total')\n",
        "plt.xticks(years[18:])\n",
        "plt.legend(loc='upper left', frameon=False)\n",
        "plt.grid(True, axis='y', alpha=0.3)\n",
        "plt.savefig('/content/drive/MyDrive/Colab Notebooks/data/크몽_논문_market/image/2차 수정/figure6_size(6.3 x 3.15).png')\n",
        "plt.show()\n"
      ],
      "metadata": {
        "id": "EUbU_BmMOdqK"
      },
      "execution_count": null,
      "outputs": []
    },
    {
      "cell_type": "markdown",
      "source": [
        "# f7"
      ],
      "metadata": {
        "id": "vsejgAkOIc14"
      }
    },
    {
      "cell_type": "code",
      "source": [
        "f7"
      ],
      "metadata": {
        "id": "J1vJdRHNIe5F"
      },
      "execution_count": null,
      "outputs": []
    },
    {
      "cell_type": "code",
      "source": [
        "# 데이터프레임 생성\n",
        "data = {\n",
        "    'Year': [1984, 1985, 1986, 1987, 1988, 1989, 1990, 1991, 1992, 1993, 1994, 1995, 1996, 1997, 1998, 1999],\n",
        "    'Number of South Korean films': [81, 80, 73, 89, 87, 110, 111, 121, 96, 63, 65, 65, 65, 59, 43, 49],\n",
        "    'Imported films': [25, 27, 50, 84, 175, 264, 276, 256, 319, 347, 382, 358, 405, 380, 271, 297],\n",
        "    'Market share South Korean films': [76.40, 74.80, 59.30, 51.40, 33.20, 29.40, 28.70, 32.10, 23.10, 15.40, 14.50, 15.40, 13.80, 13.40, 13.70, 14.20],\n",
        "    'Directly distributed films by Hollywood': [0, 0, 0, 0, 1, 15, 47, 45, 57, 64, 68, 65, 53, 58, 67, 74]\n",
        "}\n",
        "df = pd.DataFrame(data)\n",
        "\n",
        "# 'Year' 열을 인덱스로 설정\n",
        "df.set_index('Year', inplace=True)\n",
        "\n",
        "# 'Number of South Korean films'과 'Imported films'에 대한 선 그래프\n",
        "\n",
        "plt.figure()\n",
        "ax = df[['Number of South Korean films', 'Imported films']].plot(kind='line', marker='o', markersize=3, figsize=(6.3,3.15))\n",
        "ax.set_xlabel('')  # x축 라벨 제거\n",
        "# plt.xlabel('Year')\n",
        "# plt.ylabel('Number of Films')\n",
        "# plt.title('Number of South Korean Films vs Imported Films')\n",
        "plt.xticks([1984, 1985, 1986, 1987, 1988, 1989, 1990, 1991, 1992, 1993, 1994, 1995, 1996, 1997, 1998, 1999])\n",
        "plt.legend(frameon=False)\n",
        "# plt.savefig('/content/drive/MyDrive/Colab Notebooks/data/크몽_논문_market/image/figure7(1)_size(6.3 x 3.15).png')  # dpi를 원하는 해상도로 설정\n",
        "\n",
        "\n",
        "plt.figure()\n",
        "ax = df['Market share South Korean films'].plot(kind='line', marker='o',  markersize=3, figsize=(6.3,3.15), label='Market share South Korean films(%)')\n",
        "ax.set_xlabel('')  # x축 라벨 제거\n",
        "plt.ylim(0, 100)  # 원하는 범위로 설정\n",
        "plt.xticks([1984, 1985, 1986, 1987, 1988, 1989, 1990, 1991, 1992, 1993, 1994, 1995, 1996, 1997, 1998, 1999])\n",
        "plt.legend(frameon=False)\n",
        "# plt.savefig('/content/drive/MyDrive/Colab Notebooks/data/크몽_논문_market/image/figure7(2)_size(6.3 x 3.15).png')  # dpi를 원하는 해상도로 설정\n",
        "\n",
        "# 'Market share South Korean films'과 'Directly distributed films by Hollywood'에 대한 막대 그래프\n",
        "plt.figure()\n",
        "ax = df['Directly distributed films by Hollywood'][4:].plot(kind='bar', figsize=(6.3,3.15))\n",
        "ax.set_xlabel('')  # x축 라벨 제거\n",
        "# plt.xlabel('Year')\n",
        "# plt.ylabel('Percentage')\n",
        "# plt.title('Market Share of South Korean Films vs Directly Distributed Films by Hollywood')\n",
        "plt.legend(frameon=False)\n",
        "plt.xticks(rotation=0)\n",
        "# plt.savefig('/content/drive/MyDrive/Colab Notebooks/data/크몽_논문_market/image/figure7(3)_size(6.3 x 3.15).png')  # dpi를 원하는 해상도로 설정\n",
        "plt.show()\n",
        "\n"
      ],
      "metadata": {
        "id": "izXkdQsdIf79"
      },
      "execution_count": null,
      "outputs": []
    },
    {
      "cell_type": "code",
      "source": [
        "# 데이터프레임 생성\n",
        "data = {\n",
        "    'Year': [1984, 1985, 1986, 1987, 1988, 1989, 1990, 1991, 1992, 1993, 1994, 1995, 1996, 1997, 1998, 1999],\n",
        "    'Number of South Korean films': [81, 80, 73, 89, 87, 110, 111, 121, 96, 63, 65, 65, 65, 59, 43, 49],\n",
        "    'Imported films': [25, 27, 50, 84, 175, 264, 276, 256, 319, 347, 382, 358, 405, 380, 271, 297],\n",
        "    'Market share South Korean films': [76.40, 74.80, 59.30, 51.40, 33.20, 29.40, 28.70, 32.10, 23.10, 15.40, 14.50, 15.40, 13.80, 13.40, 13.70, 14.20],\n",
        "    'Directly distributed films by Hollywood': [0, 0, 0, 0, 1, 15, 47, 45, 57, 64, 68, 65, 53, 58, 67, 74]\n",
        "}\n",
        "df = pd.DataFrame(data)\n",
        "\n",
        "# 'Year' 열을 인덱스로 설정\n",
        "df.set_index('Year', inplace=True)\n",
        "\n",
        "fig, ax = plt.subplots(figsize=(6.3, 3.15))  # 하나의 축을 생성\n",
        "\n",
        "# 'Number of South Korean films'과 'Imported films'에 대한 선 그래프\n",
        "ax.plot(df.index, df['Number of South Korean films'], marker='o', markersize=3, label='Number of South Korean films')\n",
        "ax.plot(df.index, df['Imported films'], marker='o', markersize=3, label='Imported films')\n",
        "\n",
        "# 'Market share South Korean films'에 대한 선 그래프\n",
        "ax.plot(df.index, df['Market share South Korean films'], marker='o', markersize=3, label='Market share South Korean films(%)')\n",
        "\n",
        "# 'Market share South Korean films'과 'Directly distributed films by Hollywood'에 대한 막대 그래프\n",
        "ax.bar(df.index[4:], df['Directly distributed films by Hollywood'][4:], alpha=0.5, label='Directly distributed films by Hollywood')\n",
        "\n",
        "# 축 라벨, 범례, 제목 설정\n",
        "ax.legend(loc='upper left',frameon=False, fontsize=7)\n",
        "\n",
        "plt.savefig('/content/drive/MyDrive/Colab Notebooks/data/크몽_논문_market/image/2차 수정/figure7_size(6.3 x 3.15).png')\n",
        "# 그래프 표시\n",
        "plt.show()\n"
      ],
      "metadata": {
        "id": "fgLvOYzEYG9m"
      },
      "execution_count": null,
      "outputs": []
    },
    {
      "cell_type": "code",
      "source": [
        "df['Directly distributed films by Hollywood'][4:]"
      ],
      "metadata": {
        "id": "y75vaZ8YTXSf"
      },
      "execution_count": null,
      "outputs": []
    },
    {
      "cell_type": "markdown",
      "source": [
        "# f8"
      ],
      "metadata": {
        "id": "3FbpH-BCJv-r"
      }
    },
    {
      "cell_type": "code",
      "source": [
        "f8"
      ],
      "metadata": {
        "id": "XUhdZkeoJxeD"
      },
      "execution_count": null,
      "outputs": []
    },
    {
      "cell_type": "code",
      "source": [
        "# 데이터프레임 생성\n",
        "data = {\n",
        "    'Year': [1990, 1991, 1992, 1993, 1994, 1995, 1996, 1997, 1998, 1999],\n",
        "    'South Korean Film(%)': [20.20, 21.20, 18.50, 15.90, 20.50, 20.90, 23.10, 25.50, 25.10, 39.70],\n",
        "    'International Film(%)': [79.80, 78.80, 81.50, 84.10, 79.50, 79.10, 76.90, 74.50, 74.90, 60.30]\n",
        "}\n",
        "df = pd.DataFrame(data)\n",
        "plt.rcParams['xtick.labelsize'] = 7  # x축 눈금 라벨 크기 조절\n",
        "plt.rcParams['ytick.labelsize'] = 7  # y축 눈금 라벨 크기 조절\n",
        "\n",
        "# 'Year' 열을 인덱스로 설정\n",
        "df.set_index('Year', inplace=True)\n",
        "\n",
        "# 막대 그래프 그리기\n",
        "# plt.xlabel('Year')\n",
        "# plt.ylabel('Percentage')\n",
        "# plt.title('Percentage of South Korean Films vs International Films')\n",
        "ax = df.plot(kind='bar', stacked=True, figsize=(6.3, 3.15))\n",
        "ax.set_xlabel('')  # x축 라벨 제거\n",
        "plt.xticks(rotation=0)\n",
        "plt.legend(loc='upper right')\n",
        "plt.savefig('/content/drive/MyDrive/Colab Notebooks/data/크몽_논문_market/image/2차 수정/figure8_size(6.3 x 3.15).png')  # dpi를 원하는 해상도로 설정\n",
        "plt.show()\n"
      ],
      "metadata": {
        "id": "2iWL-Ga1JysZ"
      },
      "execution_count": null,
      "outputs": []
    },
    {
      "cell_type": "markdown",
      "source": [
        "# f9"
      ],
      "metadata": {
        "id": "s06Hte1pKWHA"
      }
    },
    {
      "cell_type": "code",
      "source": [
        "f9"
      ],
      "metadata": {
        "id": "2NovMoiTKXbu"
      },
      "execution_count": null,
      "outputs": []
    },
    {
      "cell_type": "code",
      "source": [
        "6.68 * 2.54"
      ],
      "metadata": {
        "id": "Mkd0CvQun1vw"
      },
      "execution_count": null,
      "outputs": []
    },
    {
      "cell_type": "code",
      "source": [
        "# 데이터프레임 생성\n",
        "data = {\n",
        "    'Year': [2006, 2007, 2008, 2009, 2010, 2011, 2012, 2013],\n",
        "    'Market Share': [63.80, 50.00, 42.10, 48.70, 46.60, 51.90, 58.80, 59.70],\n",
        "    'Distributed Films': ['108/237', '112/280', '108/272', '118/243', '140/286', '150/289', '175/456', '183/7']\n",
        "}\n",
        "df = pd.DataFrame(data)\n",
        "\n",
        "# 'Year' 열을 인덱스로 설정\n",
        "df.set_index('Year', inplace=True)\n",
        "\n",
        "plt.figure(figsize=(12,8))\n",
        "# 막대 그래프 그리기\n",
        "ax = df['Market Share'].plot(kind='line', marker='o', markersize=4, alpha=0.8,figsize=(6.3,3.15))\n",
        "ax.set_xlabel('')\n",
        "# plt.xlabel('Year')\n",
        "# plt.ylabel('Market Share')\n",
        "# plt.title('Market Share of Films')\n",
        "plt.xticks(df.index)\n",
        "plt.legend(frameon=False)\n",
        "\n",
        "# 데이터 포인트에 텍스트 추가\n",
        "for i, txt in enumerate(df['Distributed Films']):\n",
        "    plt.annotate(txt, (df.index[i], df['Market Share'].iloc[i]), xytext=(0, 5), textcoords='offset points', ha='center', va='bottom', fontsize=6)\n",
        "plt.ylim(top=67)\n",
        "plt.savefig('/content/drive/MyDrive/Colab Notebooks/data/크몽_논문_market/image/2차 수정/figure9_size(6.3 x 3.15).png')  # dpi를 원하는 해상도로 설정\n",
        "plt.show()\n"
      ],
      "metadata": {
        "id": "yp8Euzm0K17R"
      },
      "execution_count": null,
      "outputs": []
    },
    {
      "cell_type": "code",
      "source": [
        "import pandas as pd\n",
        "import matplotlib.pyplot as plt\n",
        "\n",
        "data = {\n",
        "    'Year': [2006, 2007, 2008, 2009, 2010, 2011, 2012, 2013],\n",
        "    'Market Share': [63.80, 50.00, 42.10, 48.70, 46.60, 51.90, 58.80, 59.70],\n",
        "    'Distributed Films': ['108/237', '112/280', '108/272', '118/243', '140/286', '150/289', '175/456', '183/7']\n",
        "}\n",
        "df = pd.DataFrame(data)\n",
        "\n",
        "df.set_index('Year', inplace=True)\n",
        "\n",
        "plt.figure(figsize=(12, 8))\n",
        "ax = df['Market Share'].plot(kind='line', marker='o', figsize=(6.3, 3.15))\n",
        "ax.set_xlabel('')\n",
        "plt.xticks(df.index)\n",
        "plt.legend(frameon=False)\n",
        "\n",
        "for i, txt in enumerate(df['Distributed Films']):\n",
        "    x_pos = df.index[i]\n",
        "    y_pos = df['Market Share'].iloc[i]\n",
        "    text_offset = 0.5\n",
        "    plt.text(x_pos, y_pos + text_offset, txt, ha='center', va='bottom')\n",
        "\n",
        "plt.ylim(bottom=40)  # y축의 하한값을 0으로 설정하여 그래프의 하단을 0으로 맞춥니다.\n",
        "plt.show()\n"
      ],
      "metadata": {
        "id": "U19mIJqhl12h"
      },
      "execution_count": null,
      "outputs": []
    },
    {
      "cell_type": "code",
      "source": [
        "f10"
      ],
      "metadata": {
        "id": "Tk9aKvC8KX_Q"
      },
      "execution_count": null,
      "outputs": []
    },
    {
      "cell_type": "code",
      "source": [
        "# 데이터프레임 생성\n",
        "data = {\n",
        "    'Year': [2002, 2008, 2010, 2013],\n",
        "    'Total Budget': [15557974, 65783000, 44344000, 99049000],\n",
        "    'International Division': [632475, 3950000, 3962000, 6442000]\n",
        "}\n",
        "df = pd.DataFrame(data)\n",
        "\n",
        "# 'Year' 열을 인덱스로 설정\n",
        "df.set_index('Year', inplace=True)\n",
        "\n",
        "# 막대 그래프 그리기\n",
        "ax = df.plot(kind='bar', rot=0, figsize=(6.3, 3.15))\n",
        "ax.set_xlabel('')\n",
        "# plt.xlabel('Year')\n",
        "# plt.ylabel('Amount')\n",
        "# plt.title('Total Budget vs International Division')\n",
        "plt.legend(frameon=False)\n",
        "\n",
        "# 데이터 값 표시\n",
        "for i, value in enumerate(df['Total Budget']):\n",
        "    plt.text(i, value, f\"{value:,}\", ha='center', va='bottom')\n",
        "\n",
        "for i, value in enumerate(df['International Division']):\n",
        "    plt.text(i, value, f\"{value:,}\", ha='center', va='bottom')\n",
        "# plt.savefig('/content/drive/MyDrive/Colab Notebooks/data/크몽_논문_market/image/2차 수정/figure10_size(6.3 x 3.15).png')  # dpi를 원하는 해상도로 설정\n",
        "plt.show()\n"
      ],
      "metadata": {
        "id": "dxWMU7BEKZYB"
      },
      "execution_count": null,
      "outputs": []
    },
    {
      "cell_type": "code",
      "source": [
        "t1"
      ],
      "metadata": {
        "id": "iUAY8pGoOTqe"
      },
      "execution_count": null,
      "outputs": []
    },
    {
      "cell_type": "code",
      "source": [
        "# 데이터프레임 생성\n",
        "data = {\n",
        "    'Year': [2010, 2011, 2012, 2013, 2014, 2015, 2016, 2017, 2018, 2019],\n",
        "    'Gross Box office': [11684, 12358, 14551, 15513, 16641, 17154, 17432, 17566, 18140, 19140],\n",
        "    'Gross revenue by Digital Online': [1109, 1709, 2158, 2676, 2971, 3349, 4125, 4362, 4739, 5093],\n",
        "    'Number of Admissions': [14918, 15972, 19489, 21325, 21506, 21729, 21702, 21987, 21639, 22668],\n",
        "    'Number of Screens': [2003, 1974, 2081, 2184, 2281, 2424, 2575, 2766, 2937, 3079],\n",
        "    'Number of Theatres': [301, 292, 314, 333, 356, 388, 417, 452, 483, 513],\n",
        "    'Average admissions per capita': [2.92, 3.15, 3.83, 4.17, 4.19, 4.22, 4.2, 4.25, 4.18, 4.37]\n",
        "}\n",
        "df = pd.DataFrame(data)\n",
        "\n",
        "# 'Year' 열을 인덱스로 설정\n",
        "df.set_index('Year', inplace=True)\n",
        "\n",
        "# 그래프 그리기\n",
        "plt.figure()\n",
        "ax  = df[['Gross Box office', 'Gross revenue by Digital Online']].plot(kind='line', marker='o', figsize=(6.3, 3.15))\n",
        "ax.set_xlabel('')\n",
        "# plt.xlabel('Year')\n",
        "# plt.ylabel('Amount')\n",
        "# plt.title('Gross Box Office vs Gross Revenue by Digital Online')\n",
        "plt.legend(frameon=False)\n",
        "plt.savefig('/content/drive/MyDrive/Colab Notebooks/data/크몽_논문_market/image/table1(1)_size(6.3 x 3.15).png')  # dpi를 원하는 해상도로 설정\n",
        "\n",
        "plt.figure()\n",
        "ax = df['Number of Admissions'].plot(kind='line', marker='o', figsize=(6.3, 3.15))\n",
        "ax.set_xlabel('')\n",
        "# plt.xlabel('Year')\n",
        "# plt.ylabel('Number of Admissions')\n",
        "# plt.title('Number of Admissions')\n",
        "plt.legend(frameon=False)\n",
        "plt.savefig('/content/drive/MyDrive/Colab Notebooks/data/크몽_논문_market/image/table1(2)_size(6.3 x 3.15).png')  # dpi를 원하는 해상도로 설정\n",
        "\n",
        "plt.figure()\n",
        "ax = df[['Number of Screens', 'Number of Theatres']].plot(kind='line', marker='o', figsize=(6.3, 3.15))\n",
        "ax.set_xlabel('')\n",
        "# plt.xlabel('Year')\n",
        "# plt.ylabel('Count')\n",
        "# plt.title('Number of Screens vs Number of Theatres')\n",
        "plt.legend(frameon=False)\n",
        "plt.savefig('/content/drive/MyDrive/Colab Notebooks/data/크몽_논문_market/image/table1(3)_size(6.3 x 3.15).png')  # dpi를 원하는 해상도로 설정\n",
        "\n",
        "plt.figure()\n",
        "ax = df['Average admissions per capita'].plot(kind='line', marker='o', figsize=(6.3, 3.15))\n",
        "ax.set_xlabel('')\n",
        "# plt.xlabel('Year')\n",
        "# plt.ylabel('Average Admissions per Capita')\n",
        "# plt.title('Average Admissions per Capita')\n",
        "plt.legend(frameon=False)\n",
        "plt.savefig('/content/drive/MyDrive/Colab Notebooks/data/크몽_논문_market/image/table1(4)_size(6.3 x 3.15).png')  # dpi를 원하는 해상도로 설정\n",
        "\n",
        "plt.show()\n"
      ],
      "metadata": {
        "id": "dszp_cZxOVLV"
      },
      "execution_count": null,
      "outputs": []
    },
    {
      "cell_type": "code",
      "source": [],
      "metadata": {
        "id": "8O96IcTtxbQe"
      },
      "execution_count": null,
      "outputs": []
    }
  ]
}