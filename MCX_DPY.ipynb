{
  "nbformat": 4,
  "nbformat_minor": 0,
  "metadata": {
    "colab": {
      "provenance": []
    },
    "kernelspec": {
      "name": "python3",
      "display_name": "Python 3"
    },
    "language_info": {
      "name": "python"
    }
  },
  "cells": [
    {
      "cell_type": "code",
      "source": [
        "!sudo apt-get install -y fonts-nanum\n",
        "!sudo fc-cache -fv\n",
        "!rm ~/.cache/matplotlib -rf"
      ],
      "metadata": {
        "colab": {
          "base_uri": "https://localhost:8080/"
        },
        "id": "RI63bibtVRqv",
        "outputId": "7b5752a1-a7fb-45a5-fb91-cb5517d73061"
      },
      "execution_count": 1,
      "outputs": [
        {
          "output_type": "stream",
          "name": "stdout",
          "text": [
            "Reading package lists... Done\n",
            "Building dependency tree... Done\n",
            "Reading state information... Done\n",
            "The following NEW packages will be installed:\n",
            "  fonts-nanum\n",
            "0 upgraded, 1 newly installed, 0 to remove and 18 not upgraded.\n",
            "Need to get 10.3 MB of archives.\n",
            "After this operation, 34.1 MB of additional disk space will be used.\n",
            "Get:1 http://archive.ubuntu.com/ubuntu jammy/universe amd64 fonts-nanum all 20200506-1 [10.3 MB]\n",
            "Fetched 10.3 MB in 2s (6,783 kB/s)\n",
            "debconf: unable to initialize frontend: Dialog\n",
            "debconf: (No usable dialog-like program is installed, so the dialog based frontend cannot be used. at /usr/share/perl5/Debconf/FrontEnd/Dialog.pm line 78, <> line 1.)\n",
            "debconf: falling back to frontend: Readline\n",
            "debconf: unable to initialize frontend: Readline\n",
            "debconf: (This frontend requires a controlling tty.)\n",
            "debconf: falling back to frontend: Teletype\n",
            "dpkg-preconfigure: unable to re-open stdin: \n",
            "Selecting previously unselected package fonts-nanum.\n",
            "(Reading database ... 120876 files and directories currently installed.)\n",
            "Preparing to unpack .../fonts-nanum_20200506-1_all.deb ...\n",
            "Unpacking fonts-nanum (20200506-1) ...\n",
            "Setting up fonts-nanum (20200506-1) ...\n",
            "Processing triggers for fontconfig (2.13.1-4.2ubuntu5) ...\n",
            "/usr/share/fonts: caching, new cache contents: 0 fonts, 1 dirs\n",
            "/usr/share/fonts/truetype: caching, new cache contents: 0 fonts, 3 dirs\n",
            "/usr/share/fonts/truetype/humor-sans: caching, new cache contents: 1 fonts, 0 dirs\n",
            "/usr/share/fonts/truetype/liberation: caching, new cache contents: 16 fonts, 0 dirs\n",
            "/usr/share/fonts/truetype/nanum: caching, new cache contents: 12 fonts, 0 dirs\n",
            "/usr/local/share/fonts: caching, new cache contents: 0 fonts, 0 dirs\n",
            "/root/.local/share/fonts: skipping, no such directory\n",
            "/root/.fonts: skipping, no such directory\n",
            "/usr/share/fonts/truetype: skipping, looped directory detected\n",
            "/usr/share/fonts/truetype/humor-sans: skipping, looped directory detected\n",
            "/usr/share/fonts/truetype/liberation: skipping, looped directory detected\n",
            "/usr/share/fonts/truetype/nanum: skipping, looped directory detected\n",
            "/var/cache/fontconfig: cleaning cache directory\n",
            "/root/.cache/fontconfig: not cleaning non-existent cache directory\n",
            "/root/.fontconfig: not cleaning non-existent cache directory\n",
            "fc-cache: succeeded\n"
          ]
        }
      ]
    },
    {
      "cell_type": "code",
      "source": [
        "import pandas as pd\n",
        "import seaborn as sns\n",
        "import matplotlib.pyplot as plt"
      ],
      "metadata": {
        "id": "I0At1fHMwt58"
      },
      "execution_count": 2,
      "outputs": []
    },
    {
      "cell_type": "code",
      "source": [
        "# 폰트 설정\n",
        "plt.rc('font', family='NanumBarunGothic')"
      ],
      "metadata": {
        "id": "H8_KslrwU-if"
      },
      "execution_count": null,
      "outputs": []
    },
    {
      "cell_type": "code",
      "source": [
        "# df = pd.read_csv('/content/drive/MyDrive/Colab Notebooks/크몽/MCX_DPY/MCX_DPY_Control_Dejour+B_D.csv')\n",
        "# df.rename(columns={'plane 0':'value','Unnamed: 2':'kind'},inplace=True)\n",
        "# df"
      ],
      "metadata": {
        "id": "HVspu-dXw3_E"
      },
      "execution_count": null,
      "outputs": []
    },
    {
      "cell_type": "code",
      "execution_count": null,
      "metadata": {
        "id": "0qxKWoFWwlyd"
      },
      "outputs": [],
      "source": [
        "# sns.set_theme(style=\"whitegrid\")\n",
        "\n",
        "# # Draw a pointplot to show pulse as a function of three categorical factors\n",
        "# g = sns.catplot(\n",
        "#     data=df, x=\"plane\", y=\"value\", hue=\"Dejour type\", col=\"kind\",\n",
        "#     capsize=.3, palette=\"YlGnBu_d\", errorbar=\"se\",\n",
        "#     kind=\"point\", height=6, aspect=.75,\n",
        "# )\n",
        "# g.despine(left=True)"
      ]
    },
    {
      "cell_type": "code",
      "source": [
        "# sns.set_theme(style=\"whitegrid\")\n",
        "\n",
        "# # Draw a pointplot to show pulse as a function of three categorical factors\n",
        "# g = sns.catplot(\n",
        "#     data=df, x=\"plane\", y=\"value\", hue=\"Dejour type\", row=\"kind\",\n",
        "#     capsize=.1, errorbar=\"se\",\n",
        "#     kind=\"point\", height=6, aspect=2,\n",
        "# )\n",
        "# # g.despine(left=True)"
      ],
      "metadata": {
        "id": "dTC2rmZE2MC7"
      },
      "execution_count": null,
      "outputs": []
    },
    {
      "cell_type": "code",
      "source": [
        "# sns.set_theme(style=\"whitegrid\")\n",
        "\n",
        "# # Draw a pointplot to show pulse as a function of three categorical factors\n",
        "# g = sns.catplot(\n",
        "#     data=df, x=\"plane\", y=\"value\", hue=\"Dejour type\",\n",
        "#     capsize=.1, errorbar=\"se\",\n",
        "#     kind=\"point\", height=6, aspect=2,\n",
        "# )\n",
        "\n",
        "# # x축과 y축 레이블(title) 제거\n",
        "# g.set_axis_labels(\"\", \"\")\n",
        "\n",
        "# # g.despine(left=True)"
      ],
      "metadata": {
        "id": "mN8cv97By37U"
      },
      "execution_count": null,
      "outputs": []
    },
    {
      "cell_type": "markdown",
      "source": [
        "#MCX\n"
      ],
      "metadata": {
        "id": "gCVhCcxWUfkt"
      }
    },
    {
      "cell_type": "code",
      "source": [
        "data = {\n",
        "    'plane': ['Plane 0', 'Plane 15', 'Plane 30', 'Plane 0', 'Plane 15', 'Plane 30', 'Plane 0', 'Plane 15', 'Plane 30',],\n",
        "    'type': ['Control', 'Control', 'Control', 'Dejour type B', 'Dejour type B', 'Dejour type B', 'Dejour type D', 'Dejour type D', 'Dejour type D'],\n",
        "    '평균': [34.2, 31.9, 31.3, 40.8, 37.2, 32.0, 41.9, 39.3, 35.7],\n",
        "    '표준편차': [3.0, 2.3, 2.5, 5.2, 3.1, 3.3, 6.0, 7.8, 7.9]\n",
        "}\n",
        "\n",
        "df1 = pd.DataFrame(data)\n",
        "\n",
        "# 데이터프레임 출력\n",
        "df1\n"
      ],
      "metadata": {
        "id": "JZFI6ORe8Zg5"
      },
      "execution_count": null,
      "outputs": []
    },
    {
      "cell_type": "code",
      "source": [
        "df1_control = df1[df1['type'] == 'Control']\n",
        "df1_B = df1[df1['type'] == 'Dejour type B']\n",
        "df1_D = df1[df1['type'] == 'Dejour type D']"
      ],
      "metadata": {
        "id": "Mcawu2ruMfJz"
      },
      "execution_count": null,
      "outputs": []
    },
    {
      "cell_type": "code",
      "source": [
        "num_data = len(df1_control)\n",
        "\n",
        "x = range(num_data)\n",
        "\n",
        "y1 = df1_control['평균']\n",
        "y2 = df1_B['평균']\n",
        "y3 = df1_D['평균']\n",
        "\n",
        "std1 = df1_control['표준편차']/2\n",
        "std2 = df1_B['표준편차']/2\n",
        "std3 = df1_D['표준편차']/2"
      ],
      "metadata": {
        "id": "XkDQuCMH-ame"
      },
      "execution_count": null,
      "outputs": []
    },
    {
      "cell_type": "code",
      "source": [
        "# plt.figure(figsize=(6.3,3.15), facecolor='#F2F2F2')\n",
        "# plt.rcParams['xtick.labelsize'] = 10  # x축 눈금 라벨 크기 조절\n",
        "# plt.rcParams['ytick.labelsize'] = 10  # y축 눈금 라벨 크기 조절\n",
        "\n",
        "# # 그래프 그리기\n",
        "# plt.errorbar(x, y1, yerr=std1, capsize=5, label='Control', color='b')\n",
        "# plt.errorbar(x, y2, yerr=std2, capsize=5, label='Dejour type B', color='orange')\n",
        "# plt.errorbar(x, y3, yerr=std3, capsize=5, label='Dejour type D', color='r')\n",
        "\n",
        "# # 동그란 포인트 추가\n",
        "# plt.plot(x, y1, 'o', color='b')\n",
        "# plt.plot(x, y2, 'o', color='orange')\n",
        "# plt.plot(x, y3, 'o', color='r')\n",
        "\n",
        "# plt.xticks(x, df1_control['plane'])\n",
        "# plt.ylim(25,50)\n",
        "\n",
        "# # 격자 제거\n",
        "# plt.grid(False)\n",
        "\n",
        "# plt.legend(fontsize=9)\n",
        "\n",
        "# # 그래프에 제목 추가\n",
        "# plt.ylabel('MCX', rotation=0, labelpad=25)\n",
        "\n",
        "# #이미지 저장\n",
        "# plt.savefig('/content/drive/MyDrive/Colab Notebooks/크몽/MCX_DPY/MCX.png')\n",
        "\n",
        "# plt.show()"
      ],
      "metadata": {
        "id": "lxnr6Ttm-ufu"
      },
      "execution_count": null,
      "outputs": []
    },
    {
      "cell_type": "code",
      "source": [
        "plt.figure(figsize=(6.3,3.15))\n",
        "\n",
        "# 그래프 영역의 배경색 설정\n",
        "plt.gca().set_facecolor('#F2F2F2')\n",
        "\n",
        "plt.rcParams['xtick.labelsize'] = 10  # x축 눈금 라벨 크기 조절\n",
        "plt.rcParams['ytick.labelsize'] = 10  # y축 눈금 라벨 크기 조절\n",
        "\n",
        "# 그래프 그리기\n",
        "plt.errorbar(x, y1, yerr=std1, capsize=5, label='Control', color='#4472C4')\n",
        "plt.errorbar(x, y2, yerr=std2, capsize=5, label='Dejour type B', color='orange')\n",
        "plt.errorbar(x, y3, yerr=std3, capsize=5, label='Dejour type D', color='#C00200')\n",
        "\n",
        "# 동그란 포인트 추가\n",
        "plt.plot(x, y1, 'o', color='#4472C4')\n",
        "plt.plot(x, y2, 'o', color='orange')\n",
        "plt.plot(x, y3, 'o', color='#C00200')\n",
        "\n",
        "plt.xticks(x, df1_control['plane'])\n",
        "plt.ylim(25,50)\n",
        "\n",
        "# 격자 제거\n",
        "plt.grid(False)\n",
        "\n",
        "plt.legend(fontsize=9)\n",
        "\n",
        "# 그래프에 제목 추가\n",
        "plt.ylabel('MCX', rotation=0, labelpad=20, fontsize=12)\n",
        "\n",
        "# y라벨 간격 설정\n",
        "# plt.yticks(range(25,51,3))\n",
        "\n",
        "#이미지 저장\n",
        "plt.savefig('/content/drive/MyDrive/Colab Notebooks/크몽/MCX_DPY/MCX.png')\n",
        "\n",
        "plt.show()"
      ],
      "metadata": {
        "id": "2ujCxQv-TY6w"
      },
      "execution_count": null,
      "outputs": []
    },
    {
      "cell_type": "markdown",
      "source": [
        "#DPY\n"
      ],
      "metadata": {
        "id": "WtbLxKR9Ucos"
      }
    },
    {
      "cell_type": "code",
      "source": [
        "data = {\n",
        "    'plane': ['plane 0', 'plane 15', 'plane 30', 'plane 0', 'plane 15', 'plane 30', 'plane 0', 'plane 15', 'plane 30'],\n",
        "    'type': ['Control', 'Control', 'Control', 'Dejour type B', 'Dejour type B', 'Dejour type B', 'Dejour type D', 'Dejour type D', 'Dejour type D'],\n",
        "    '평균': [37.5, 33.8, 30.1, 40.8, 36.6, 31.7, 43.0, 38.5, 33.0],\n",
        "    '표준편차': [2.3, 2.8, 2.9, 1.5, 1.0, 1.7, 4.1, 4.4, 4.9]\n",
        "}\n",
        "\n",
        "df2 = pd.DataFrame(data)\n",
        "\n",
        "# 데이터프레임 출력\n",
        "df2"
      ],
      "metadata": {
        "id": "jXttB-u2OhFY"
      },
      "execution_count": null,
      "outputs": []
    },
    {
      "cell_type": "code",
      "source": [
        "df2_control = df2[df2['type'] == 'Control']\n",
        "df2_B = df2[df2['type'] == 'Dejour type B']\n",
        "df2_D = df2[df2['type'] == 'Dejour type D']"
      ],
      "metadata": {
        "id": "jI6y2-ACTw71"
      },
      "execution_count": null,
      "outputs": []
    },
    {
      "cell_type": "code",
      "source": [
        "num_data = len(df1_control)\n",
        "\n",
        "x = range(num_data)\n",
        "\n",
        "y1 = df2_control['평균']\n",
        "y2 = df2_B['평균']\n",
        "y3 = df2_D['평균']\n",
        "\n",
        "std1 = df2_control['표준편차']/2\n",
        "std2 = df2_B['표준편차']/2\n",
        "std3 = df2_D['표준편차']/2"
      ],
      "metadata": {
        "id": "r-ixgsNKT3HW"
      },
      "execution_count": null,
      "outputs": []
    },
    {
      "cell_type": "code",
      "source": [
        "plt.figure(figsize=(6.3,3.15))\n",
        "\n",
        "# 그래프 영역의 배경색 설정\n",
        "plt.gca().set_facecolor('#F2F2F2')\n",
        "\n",
        "plt.rcParams['xtick.labelsize'] = 10  # x축 눈금 라벨 크기 조절\n",
        "plt.rcParams['ytick.labelsize'] = 10  # y축 눈금 라벨 크기 조절\n",
        "\n",
        "# 그래프 그리기\n",
        "plt.errorbar(x, y1, yerr=std1, capsize=5, label='Control', color='#4472C4')\n",
        "plt.errorbar(x, y2, yerr=std2, capsize=5, label='Dejour type B', color='orange')\n",
        "plt.errorbar(x, y3, yerr=std3, capsize=5, label='Dejour type D', color='#C00200')\n",
        "\n",
        "# 동그란 포인트 추가\n",
        "plt.plot(x, y1, 'o', color='#4472C4')\n",
        "plt.plot(x, y2, 'o', color='orange')\n",
        "plt.plot(x, y3, 'o', color='#C00200')\n",
        "\n",
        "plt.xticks(x, df1_control['plane'])\n",
        "plt.ylim(25,50)\n",
        "\n",
        "# 격자 제거\n",
        "plt.grid(False)\n",
        "\n",
        "plt.legend(fontsize=9)\n",
        "\n",
        "# 그래프에 제목 추가\n",
        "plt.ylabel('DPY', rotation=0, labelpad=20, fontsize=12)\n",
        "\n",
        "#이미지 저장\n",
        "plt.savefig('/content/drive/MyDrive/Colab Notebooks/크몽/MCX_DPY/DPY.png')\n",
        "\n",
        "plt.show()"
      ],
      "metadata": {
        "id": "XHsAZLlGT4SX"
      },
      "execution_count": null,
      "outputs": []
    },
    {
      "cell_type": "code",
      "source": [],
      "metadata": {
        "id": "4CK_fYoiUbLI"
      },
      "execution_count": null,
      "outputs": []
    }
  ]
}