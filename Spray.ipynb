{
  "nbformat": 4,
  "nbformat_minor": 0,
  "metadata": {
    "colab": {
      "provenance": []
    },
    "kernelspec": {
      "name": "python3",
      "display_name": "Python 3"
    },
    "language_info": {
      "name": "python"
    }
  },
  "cells": [
    {
      "cell_type": "code",
      "execution_count": null,
      "metadata": {
        "id": "7cb5XXaWP2Pk"
      },
      "outputs": [],
      "source": [
        "import pandas as pd\n",
        "import matplotlib.pyplot as plt\n",
        "import numpy as np\n",
        "\n",
        "base_path = '/content/drive/MyDrive/Colab Notebooks/크몽/Spray/'\n",
        "\n",
        "df1 = pd.read_csv(base_path + 'spray1 - 시트1.csv')\n",
        "df2 = pd.read_csv(base_path + 'spray2 - 시트1.csv')\n",
        "df3 = pd.read_csv(base_path + 'spray3 - 시트1.csv')\n",
        "df4 = pd.read_csv(base_path + 'spray4 - 시트1.csv')"
      ]
    },
    {
      "cell_type": "markdown",
      "source": [
        "# 1번 그래프"
      ],
      "metadata": {
        "id": "BVx5s2_UTfRG"
      }
    },
    {
      "cell_type": "code",
      "source": [
        "# Group data by 'Spray type' and 'Constituent', then sum the frequencies\n",
        "# df1 = df1.sort_values(by='Frequency', ascending=False)\n",
        "df1 = df1.groupby('Spray type').apply(lambda x: x.sort_values('Frequency', ascending=False)).reset_index(drop=True)\n",
        "\n",
        "# # Generate color map for unique Constituents, setting 'Benzene' to red\n",
        "# unique_constituents = df1['Constituent'].unique()\n",
        "# colors = plt.cm.tab20(np.linspace(0, 1, len(unique_constituents)))\n",
        "# color_map = {constituent: color for constituent, color in zip(unique_constituents, colors)}\n",
        "# color_map['Benzene'] = [1, 0, 0, 1]  # Set Benzene to red\n",
        "\n",
        "# # 20개의 다양한 색상 얻기\n",
        "# twenty_colors = sns.color_palette(\"husl\", 20)\n",
        "\n",
        "# import random\n",
        "\n",
        "# # Generate random colors\n",
        "# colors = [[random.random(), random.random(), random.random(), 1.0] for _ in range(len(unique_constituents))]\n",
        "\n",
        "# # Generate color map for unique Constituents, setting 'Benzene' to red\n",
        "# color_map = {constituent: color for constituent, color in zip(unique_constituents, colors)}\n",
        "# color_map['Benzene'] = [1, 0, 0, 1]  # Set Benzene to red\n",
        "\n",
        "\n",
        "# Generate color map for unique Constituents, setting 'Benzene' to red\n",
        "unique_constituents = df1['Constituent'].unique()\n",
        "\n",
        "# Combine tab20 and tab10 color maps to create 30 unique colors\n",
        "colors_tab20 = plt.cm.tab20(np.linspace(0, 1, 20))\n",
        "colors_tab10 = plt.cm.viridis(np.linspace(0, 1, 10))\n",
        "combined_colors = np.vstack((colors_tab20, colors_tab10))\n",
        "\n",
        "color_map = {constituent: color for constituent, color in zip(unique_constituents, combined_colors)}\n",
        "color_map['Benzene'] = [1, 0, 0, 1]  # Set Benzene to red\n",
        "color_map['2-ethoxy ethanol'] = [0, 0, 0, 1]  # Set Benzene to red"
      ],
      "metadata": {
        "id": "2y-b8gWIThm3"
      },
      "execution_count": null,
      "outputs": []
    },
    {
      "cell_type": "code",
      "source": [
        "len(unique_constituents)"
      ],
      "metadata": {
        "id": "19dIOlAwUTyL"
      },
      "execution_count": null,
      "outputs": []
    },
    {
      "cell_type": "code",
      "source": [
        "plt.figure(figsize=(15, 8))\n",
        "x = np.arange(len(df1['Spray type'].unique()))\n",
        "bar_width = 0.035\n",
        "\n",
        "for i, constituent in enumerate(unique_constituents):\n",
        "    y = [df1[(df1['Spray type'] == spray_type) & (df1['Constituent'] == constituent)]['Frequency'].sum()\n",
        "         for spray_type in df1['Spray type'].unique()]\n",
        "    plt.bar(x + i * bar_width, y, width=bar_width, label=constituent, color=color_map.get(constituent, [0, 0, 0, 1]))\n",
        "\n",
        "# plt.xlabel('Spray Type')\n",
        "# plt.ylabel('Frequency')\n",
        "# plt.title('Frequency of Constituents by Spray Type')\n",
        "plt.xticks(x+0.2 + bar_width, df1['Spray type'].unique())\n",
        "plt.legend(bbox_to_anchor=(1.05, 1), loc='upper left',fontsize=16, title='Constituents', title_fontsize=17)\n",
        "plt.xticks(fontsize=16)\n",
        "plt.yticks(fontsize=16)\n",
        "plt.tight_layout()\n",
        "plt.show()"
      ],
      "metadata": {
        "id": "Ww7Mo_skQKKC"
      },
      "execution_count": null,
      "outputs": []
    },
    {
      "cell_type": "code",
      "source": [
        "import seaborn as sns\n",
        "\n",
        "# Assuming df1 is your DataFrame\n",
        "\n",
        "plt.figure(figsize=(15, 8))\n",
        "\n",
        "# Create the barplot\n",
        "sns.barplot(x='Spray type', y='Frequency', hue='Constituent', data=df1, palette=color_map)\n",
        "\n",
        "# Customize the plot\n",
        "plt.xlabel('')\n",
        "plt.ylabel('')\n",
        "# plt.title('Frequency of Constituents by Spray Type')\n",
        "plt.legend(bbox_to_anchor=(1.05, 1), loc='upper left',fontsize=16, title='Constituents', title_fontsize=17)\n",
        "plt.xticks(fontsize=16)\n",
        "\n",
        "# y축 간격 설정\n",
        "y_max = df1['Frequency'].max()  # y축의 최대값을 얻습니다.\n",
        "y_min = 0  # y축의 최소값을 얻습니다. 필요에 따라 0으로 설정할 수 있습니다.\n",
        "yticks_values = np.arange(y_min, y_max + 2, 2)  # 간격을 2로 설정\n",
        "\n",
        "# 나머지 코드...\n",
        "\n",
        "plt.yticks(yticks_values, fontsize=16)  # y축 tick 값을 설정\n",
        "\n",
        "# Show the plot\n",
        "plt.tight_layout()\n",
        "plt.savefig(base_path + 'img/샘플 그래프 1 형식_데이터 A.png')\n",
        "plt.show()"
      ],
      "metadata": {
        "id": "nuKKwtxgUHiu"
      },
      "execution_count": null,
      "outputs": []
    },
    {
      "cell_type": "markdown",
      "source": [
        "# 2번 그래프"
      ],
      "metadata": {
        "id": "qp_2xXmoctxt"
      }
    },
    {
      "cell_type": "code",
      "source": [
        "df2['Constituent'].unique()"
      ],
      "metadata": {
        "id": "K-jgQz5XdGtd"
      },
      "execution_count": null,
      "outputs": []
    },
    {
      "cell_type": "code",
      "source": [
        "sns.barplot(data=df2, y='Constituent', x='Frequency', hue='Product category', dodge=False)"
      ],
      "metadata": {
        "id": "-jm9yT69nisN"
      },
      "execution_count": null,
      "outputs": []
    },
    {
      "cell_type": "code",
      "source": [
        "# Sum the frequency for each Constituent\n",
        "df2_grouped = df2.groupby('Constituent')['Frequency'].sum().reset_index()\n",
        "\n",
        "# Sort the DataFrame by Frequency\n",
        "df2_grouped = df2_grouped.sort_values(by='Frequency', ascending=False)\n",
        "\n",
        "# Generate color map, setting 'Sticker/Glue/Tar/Oil removers' to red\n",
        "color_map = {constituent: 'blue' for constituent in df2_grouped['Constituent']}\n",
        "color_map['Sticker/Glue/Tar/Oil removers'] = 'red'\n",
        "\n",
        "# Create the bar chart with y-axis based on 'Constituent'\n",
        "plt.figure(figsize=(12, 8))\n",
        "plt.barh(df2_grouped['Constituent'], df2_grouped['Frequency'], color=[color_map.get(constituent, 'blue') for constituent in df2_grouped['Constituent']])\n",
        "plt.xlabel('Frequency')\n",
        "plt.ylabel('Constituent')\n",
        "plt.yticks(np.arange(0, len(df2_grouped['Constituent']), 2))  # set y-axis ticks in steps of 2\n",
        "plt.title('Frequency of Constituents')\n",
        "plt.show()\n"
      ],
      "metadata": {
        "id": "HSWZdU_KjSiF"
      },
      "execution_count": null,
      "outputs": []
    },
    {
      "cell_type": "code",
      "source": [
        "# fig, ax = plt.subplots(figsize=(15,7))\n",
        "# constituent = df2['Constituent'].drop_duplicates()\n",
        "# categorys = df2['Product category'].drop_duplicates()\n",
        "\n",
        "# for num, category in enumerate(categorys):\n",
        "#   values = list(df2[df2['Product category'] == category].loc[: 'Frequency'])\n",
        "#   df2[df2['Product category'] == category].plot.bar(x='Constituent', y='Frequency', stacked=True, ax=ax, bottom=constituent, label=category)"
      ],
      "metadata": {
        "id": "jdIIM2D_n6wR"
      },
      "execution_count": null,
      "outputs": []
    },
    {
      "cell_type": "code",
      "source": [
        "# flights = sns.load_dataset('flights') # 여객운송 데이터\n",
        "plt.figure(figsize=(15,10))\n",
        "\n",
        "label = df2['Constituent'].unique() # 중복제거 year\n",
        "index = np.arange(len(label)) # index 지정\n",
        "legend = df2['Product category'].unique() # 중복제거 month\n",
        "alpha = 0.4\n",
        "\n",
        "# summary\n",
        "flights_mean_by = df2.groupby(['Constituent','Product category'])['Frequency'].mean().unstack('Product category')\n",
        "flights_mean_by.plot(kind='bar', stacked=True)\n",
        "\n",
        "#flights.groupby(['year', 'month'])['passengers'].mean().unstack('month').plot(kind='bar', stacked=True)\n",
        "\n",
        "plt.title('Stacked Bar Chart (flights)', fontsize=20)\n",
        "plt.ylabel('Mean of passengers', fontsize=18)\n",
        "plt.xlabel('Year', fontsize=18)\n",
        "plt.xticks(index, label, fontsize=14, rotation=45)\n",
        "\n",
        "plt.show()"
      ],
      "metadata": {
        "id": "pSp2cZ5QoDYx"
      },
      "execution_count": null,
      "outputs": []
    },
    {
      "cell_type": "code",
      "source": [
        "# Generate the summary dataframe\n",
        "df2_grouped_by = df2.groupby(['Constituent', 'Product category'])['Frequency'].mean().unstack('Constituent')\n",
        "\n",
        "# Plotting the stacked bar chart with swapped x and y-axis\n",
        "plt.figure(figsize=(10, 15))\n",
        "\n",
        "# Generate the stacked bar plot\n",
        "df2_grouped_by.T.plot(kind='barh', stacked=True, figsize=(10, 15), alpha=0.7)\n",
        "\n",
        "# Label and title settings\n",
        "plt.title('Stacked Bar Chart by Product Category', fontsize=20)\n",
        "plt.xlabel('Mean of Frequency', fontsize=18)\n",
        "plt.ylabel('Constituent', fontsize=18)\n",
        "\n",
        "plt.show()"
      ],
      "metadata": {
        "id": "JHk2KXXyoVex"
      },
      "execution_count": null,
      "outputs": []
    },
    {
      "cell_type": "code",
      "source": [
        "# Generate the summary dataframe with 'Product category' and 'Constituent' swapped\n",
        "df2_grouped_by_swapped = df2.groupby(['Product category', 'Constituent'])['Frequency'].mean().unstack('Product category')\n",
        "\n",
        "# Calculate the sum of frequencies for each 'Product category'\n",
        "df2_grouped_by_swapped['Total'] = df2_grouped_by_swapped.sum(axis=1)\n",
        "\n",
        "# Sort by the total frequencies\n",
        "df2_grouped_by_swapped_sorted = df2_grouped_by_swapped.sort_values(by='Total', ascending=False).drop(columns='Total')\n",
        "\n",
        "# Plotting the sorted stacked bar chart\n",
        "plt.figure(figsize=(10, 15))\n",
        "\n",
        "# Generate the stacked bar plot\n",
        "df2_grouped_by_swapped_sorted.T.plot(kind='barh', stacked=True, figsize=(10, 15), alpha=0.7)\n",
        "\n",
        "# Label and title settings\n",
        "plt.title('Sorted Stacked Bar Chart by Constituent', fontsize=20)\n",
        "plt.xlabel('Mean of Frequency', fontsize=18)\n",
        "plt.ylabel('Product Category', fontsize=18)\n",
        "\n",
        "plt.show()"
      ],
      "metadata": {
        "id": "C1Mw1BMfrACL"
      },
      "execution_count": null,
      "outputs": []
    },
    {
      "cell_type": "code",
      "source": [
        "# Handle NaN values by filling them with 0\n",
        "df2_grouped_by_swapped_sorted_filled = df2_grouped_by_swapped_sorted.fillna(0)\n",
        "\n",
        "# Initialize the figure\n",
        "plt.figure(figsize=(17, 10))\n",
        "\n",
        "# Initialize the \"bottom\" values to 0 for each bar\n",
        "bottom_values = np.zeros(len(df2_grouped_by_swapped_sorted_filled.index))\n",
        "\n",
        "# Create a list to store legend labels and colors\n",
        "legend_labels = []\n",
        "\n",
        "# Loop through each Constituent\n",
        "for col in df2_grouped_by_swapped_sorted_filled.columns:\n",
        "    # Define the color for the current Constituent\n",
        "    if col == 'Sticker/Glue/Tar/Oil removers (n=12)':\n",
        "        color = [1,0,0,1]\n",
        "        alpha_value = 1.0  # Set to 1 for full opacity, making the color darker\n",
        "    elif col == 'Kitchen cleaning (n=5)':\n",
        "        color = [0.5,1,1,0.5]\n",
        "        alpha_value = 0.7\n",
        "    elif col == 'Metal cleaning/Rust removers (n=8)':\n",
        "        color = [0.5,0.9,0.1,0.9]\n",
        "        alpha_value = 0.7\n",
        "    elif col == 'Multi-purpose cleaning (n=15)':\n",
        "        color = [0.2,0.5,0.4,0.3]\n",
        "        alpha_value = 0.7\n",
        "    else:\n",
        "        color = None\n",
        "        alpha_value = 0.7\n",
        "    if col == 'Car cleaning (inside air conditioner) (n=2)':\n",
        "        color = [1,1,0,1]\n",
        "\n",
        "    # Plot each Constituent as a layer in the stacked bar, using the \"bottom\" values to position the layer\n",
        "    plt.barh(df2_grouped_by_swapped_sorted_filled.index, df2_grouped_by_swapped_sorted_filled[col], left=bottom_values, color=color, alpha=0.7)\n",
        "\n",
        "    # Update the \"bottom\" values to include the current layer\n",
        "    bottom_values += df2_grouped_by_swapped_sorted_filled[col].values\n",
        "\n",
        "    # Add to legend labels\n",
        "    legend_labels.append(col)\n",
        "\n",
        "# Label and title settings\n",
        "\n",
        "\n",
        "# Set x-axis ticks in steps of 2\n",
        "plt.xticks(np.arange(0, int(max(bottom_values)) + 2, 2),fontsize=18)\n",
        "plt.yticks(fontsize=20)\n",
        "\n",
        "plt.xlabel('Frequency',fontsize=22)\n",
        "plt.ylabel('Constituents', fontsize=22)\n",
        "\n",
        "# Add legend\n",
        "plt.legend(legend_labels, title='Product category', title_fontsize=22, bbox_to_anchor=(1.05, 1), loc='upper left',fontsize=20)\n",
        "plt.savefig(base_path + 'img/샘플 그래프 3 형식_데이터 A.png', dpi=500, bbox_inches='tight')\n",
        "plt.show()"
      ],
      "metadata": {
        "id": "Mwp79b5trxyv"
      },
      "execution_count": null,
      "outputs": []
    },
    {
      "cell_type": "code",
      "source": [
        "df2['Product category'].unique()"
      ],
      "metadata": {
        "id": "LoMvSx_J0HXk"
      },
      "execution_count": null,
      "outputs": []
    },
    {
      "cell_type": "markdown",
      "source": [
        "# 3번 그래프"
      ],
      "metadata": {
        "id": "mbEcI-vLuWF2"
      }
    },
    {
      "cell_type": "code",
      "source": [
        "df3"
      ],
      "metadata": {
        "id": "g5WXAJrMuZoQ"
      },
      "execution_count": null,
      "outputs": []
    },
    {
      "cell_type": "code",
      "source": [
        "import seaborn as sns\n",
        "\n",
        "# # Generate color map for unique Constituents, setting 'Benzene' to red\n",
        "# unique_constituents = df3['Constituent'].unique()\n",
        "# colors = plt.cm.viridis(np.linspace(0, 1, len(unique_constituents)))\n",
        "# color_map = {constituent: color for constituent, color in zip(unique_constituents, colors)}\n",
        "# color_map['Ni'] = [1, 0, 0, 1]  # Set Benzene to red\n",
        "\n",
        "# Generate color map for unique Constituents, setting 'Benzene' to red\n",
        "unique_constituents = df3['Constituent'].unique()\n",
        "# Combine tab20 and tab10 color maps to create 30 unique colors\n",
        "colors_tab20 = plt.cm.tab20(np.linspace(0, 1, 20))\n",
        "# colors_tab10 = plt.cm.viridis(np.linspace(0, 1, 10))\n",
        "# combined_colors = np.vstack((colors_tab20, colors_tab10))\n",
        "\n",
        "color_map = {constituent: color for constituent, color in zip(unique_constituents, colors_tab20)}\n",
        "color_map['Ni'] = [1, 0, 0, 1]  # Set Benzene to red\n",
        "color_map['Mn'] = [1, 0.5, 0.5, 1]  # Set Benzene to red\n",
        "\n",
        "df3 = df3.groupby('Spray type').apply(lambda x: x.sort_values('Frequency', ascending=False)).reset_index(drop=True)\n",
        "\n",
        "# Assuming df1 is your DataFrame\n",
        "plt.figure(figsize=(15, 8))\n",
        "\n",
        "# Create the barplot\n",
        "sns.barplot(x='Spray type', y='Frequency', hue='Constituent', data=df3, palette=color_map)\n",
        "\n",
        "# Customize the plot\n",
        "plt.xlabel('')\n",
        "plt.ylabel('')\n",
        "# plt.title('Frequency of Constituents by Spray Type')\n",
        "plt.legend(bbox_to_anchor=(1.05, 1), loc='upper left', fontsize=16, title='Constituents', title_fontsize=17)\n",
        "plt.xticks(fontsize=16)\n",
        "\n",
        "# y축 간격 설정\n",
        "y_max = df1['Frequency'].max()  # y축의 최대값을 얻습니다.\n",
        "y_min = 0  # y축의 최소값을 얻습니다. 필요에 따라 0으로 설정할 수 있습니다.\n",
        "yticks_values = np.arange(y_min, y_max + 2, 2)  # 간격을 2로 설정\n",
        "\n",
        "# 나머지 코드...\n",
        "\n",
        "plt.yticks(yticks_values, fontsize=16)  # y축 tick 값을 설정\n",
        "\n",
        "\n",
        "# Show the plot\n",
        "plt.tight_layout()\n",
        "plt.savefig(base_path + 'img/샘플 그래프 1 형식_데이터 B.png')\n",
        "plt.show()"
      ],
      "metadata": {
        "id": "qbLzb8_7uciY"
      },
      "execution_count": null,
      "outputs": []
    },
    {
      "cell_type": "markdown",
      "source": [
        "# 4번 그래프"
      ],
      "metadata": {
        "id": "OAJ0-i5VvF3_"
      }
    },
    {
      "cell_type": "code",
      "source": [
        "df4"
      ],
      "metadata": {
        "id": "H3zcgcW1upOu"
      },
      "execution_count": null,
      "outputs": []
    },
    {
      "cell_type": "code",
      "source": [
        "# Generate the summary dataframe with 'Product category' and 'Constituent' swapped\n",
        "df4_grouped_by_swapped = df4.groupby(['Product category', 'Constituent'])['Frequency'].mean().unstack('Product category')\n",
        "\n",
        "# Calculate the sum of frequencies for each 'Product category'\n",
        "df4_grouped_by_swapped['Total'] = df4_grouped_by_swapped.sum(axis=1)\n",
        "\n",
        "# Sort by the total frequencies\n",
        "df4_grouped_by_swapped_sorted = df4_grouped_by_swapped.sort_values(by='Total', ascending=False).drop(columns='Total')\n",
        "\n",
        "\n",
        "# Handle NaN values by filling them with 0\n",
        "df4_grouped_by_swapped_sorted_filled = df4_grouped_by_swapped_sorted.fillna(0)\n",
        "\n",
        "# Initialize the figure\n",
        "plt.figure(figsize=(17, 10))\n",
        "\n",
        "# Initialize the \"bottom\" values to 0 for each bar\n",
        "bottom_values = np.zeros(len(df4_grouped_by_swapped_sorted_filled.index))\n",
        "\n",
        "# Create a list to store legend labels and colors\n",
        "legend_labels = []\n",
        "\n",
        "# # Loop through each Constituent\n",
        "# for col in df4_grouped_by_swapped_sorted_filled.columns:\n",
        "#     # Define the color for the current Constituent\n",
        "#     color = 'red' if col == 'Sticker/Glue/Tar/Oil removers (n=12)' else None\n",
        "\n",
        "\n",
        "\n",
        "for col in df4_grouped_by_swapped_sorted_filled.columns:\n",
        "    # Define the color for the current Constituent\n",
        "    if col == 'Sticker/Glue/Tar/Oil removers (n=12)':\n",
        "        color = [1,0,0,1]\n",
        "        alpha_value = 1.0  # Set to 1 for full opacity, making the color darker\n",
        "    elif col == 'Kitchen cleaning (n=5)':\n",
        "        color = [0.5,1,1,0.5]\n",
        "        alpha_value = 0.7\n",
        "    elif col == 'Metal cleaning/Rust removers (n=8)':\n",
        "        color = [0.5,0.9,0.1,0.9]\n",
        "        alpha_value = 0.7\n",
        "    elif col == 'Multi-purpose cleaning (n=15)':\n",
        "        color = [0.2,0.5,0.4,0.3]\n",
        "        alpha_value = 0.7\n",
        "    elif col == 'Car cleaning (inside air conditioner) (n=2)':\n",
        "        color = [1,1,0,1]\n",
        "    else:\n",
        "        color = None\n",
        "        alpha_value = 0.7\n",
        "\n",
        "# Label and title settings\n",
        "    # Plot each Constituent as a layer in the stacked bar, using the \"bottom\" values to position the layer\n",
        "    plt.barh(df4_grouped_by_swapped_sorted_filled.index, df4_grouped_by_swapped_sorted_filled[col], left=bottom_values, color=color, alpha=0.7)\n",
        "\n",
        "    # Update the \"bottom\" values to include the current layer\n",
        "    bottom_values += df4_grouped_by_swapped_sorted_filled[col].values\n",
        "\n",
        "    # Add to legend labels\n",
        "    legend_labels.append(col)\n",
        "\n",
        "\n",
        "# Set x-axis ticks in steps of 2\n",
        "plt.xticks(np.arange(0, int(max(bottom_values)) + 4, 2),fontsize=18)\n",
        "plt.yticks(fontsize=20)\n",
        "\n",
        "plt.xlabel('Frequency',fontsize=22)\n",
        "plt.ylabel('Constituents', fontsize=22)\n",
        "\n",
        "# Add legend\n",
        "plt.legend(legend_labels, title='Product category', title_fontsize=22, bbox_to_anchor=(1.05, 1), loc='upper left',fontsize=20)\n",
        "plt.savefig(base_path + 'img/샘플 그래프 2 형식_데이터 B.png', dpi=300, bbox_inches='tight')\n",
        "plt.show()\n"
      ],
      "metadata": {
        "id": "rw22UVTYwxYz"
      },
      "execution_count": null,
      "outputs": []
    },
    {
      "cell_type": "code",
      "source": [
        "df4['Product category'].unique()"
      ],
      "metadata": {
        "id": "Li1h5IFnw_Uc"
      },
      "execution_count": null,
      "outputs": []
    },
    {
      "cell_type": "code",
      "source": [
        "df4"
      ],
      "metadata": {
        "id": "x8tp59NY1ywk"
      },
      "execution_count": null,
      "outputs": []
    },
    {
      "cell_type": "code",
      "source": [],
      "metadata": {
        "id": "ukGbQ2ld158o"
      },
      "execution_count": null,
      "outputs": []
    }
  ]
}